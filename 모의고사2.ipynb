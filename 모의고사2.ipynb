{
 "cells": [
  {
   "cell_type": "code",
   "execution_count": 169,
   "metadata": {},
   "outputs": [],
   "source": [
    "import pandas as pd\n",
    "import numpy as np\n",
    "import matplotlib.pyplot as plt\n",
    "import seaborn as sns\n",
    "%matplotlib inline\n",
    "\n",
    "import warnings\n",
    "import missingno as msno\n",
    "warnings.filterwarnings('ignore')\n",
    "from datetime import datetime, timedelta,date\n",
    "from sklearn.preprocessing import StandardScaler,RobustScaler,MinMaxScaler,LabelEncoder\n",
    "from sklearn.ensemble import BaggingClassifier,GradientBoostingClassifier,RandomForestClassifier,StackingClassifier\n",
    "from sklearn.cluster import KMeans\n",
    "from sklearn.metrics import classification_report,confusion_matrix,plot_confusion_matrix,plot_precision_recall_curve,plot_roc_curve,accuracy_score\n",
    "from sklearn.model_selection import GridSearchCV,train_test_split,cross_validate,cross_val_score,GroupKFold,KFold,cross_val_predict\n",
    "from sklearn_extra.cluster import KMedoids\n",
    "from xgboost import XGBClassifier,plot_importance,plot_tree\n",
    "from lightgbm import LGBMClassifier,plot_importance,plot_metric,plot_tree\n",
    "from imblearn.over_sampling import SMOTE"
   ]
  },
  {
   "cell_type": "markdown",
   "metadata": {},
   "source": [
    "# 모의고사 2회\n",
    "\n",
    "## 1. 정형 데이터 마이닝\n",
    "\n",
    "### 1-1. 데이터의 요약값을 보고 데이터의 적합성을 판단하고 데이터를 전처리하시오."
   ]
  },
  {
   "cell_type": "code",
   "execution_count": 103,
   "metadata": {},
   "outputs": [],
   "source": [
    "train = pd.read_csv('wa_train.csv')\n",
    "test = pd.read_csv('wa_test.csv')"
   ]
  },
  {
   "cell_type": "code",
   "execution_count": 5,
   "metadata": {},
   "outputs": [
    {
     "data": {
      "text/html": [
       "<div>\n",
       "<style scoped>\n",
       "    .dataframe tbody tr th:only-of-type {\n",
       "        vertical-align: middle;\n",
       "    }\n",
       "\n",
       "    .dataframe tbody tr th {\n",
       "        vertical-align: top;\n",
       "    }\n",
       "\n",
       "    .dataframe thead th {\n",
       "        text-align: right;\n",
       "    }\n",
       "</style>\n",
       "<table border=\"1\" class=\"dataframe\">\n",
       "  <thead>\n",
       "    <tr style=\"text-align: right;\">\n",
       "      <th></th>\n",
       "      <th>Date</th>\n",
       "      <th>Location</th>\n",
       "      <th>WindGustDir</th>\n",
       "      <th>WindDir9am</th>\n",
       "      <th>WindDir3pm</th>\n",
       "      <th>RainToday</th>\n",
       "      <th>RainTomorrow</th>\n",
       "    </tr>\n",
       "  </thead>\n",
       "  <tbody>\n",
       "    <tr>\n",
       "      <th>count</th>\n",
       "      <td>56837</td>\n",
       "      <td>56837</td>\n",
       "      <td>56837</td>\n",
       "      <td>56837</td>\n",
       "      <td>56837</td>\n",
       "      <td>56837</td>\n",
       "      <td>56837</td>\n",
       "    </tr>\n",
       "    <tr>\n",
       "      <th>unique</th>\n",
       "      <td>3382</td>\n",
       "      <td>34</td>\n",
       "      <td>16</td>\n",
       "      <td>16</td>\n",
       "      <td>16</td>\n",
       "      <td>2</td>\n",
       "      <td>2</td>\n",
       "    </tr>\n",
       "    <tr>\n",
       "      <th>top</th>\n",
       "      <td>2015-03-24</td>\n",
       "      <td>Darwin</td>\n",
       "      <td>E</td>\n",
       "      <td>N</td>\n",
       "      <td>S</td>\n",
       "      <td>No</td>\n",
       "      <td>No</td>\n",
       "    </tr>\n",
       "    <tr>\n",
       "      <th>freq</th>\n",
       "      <td>29</td>\n",
       "      <td>2478</td>\n",
       "      <td>4417</td>\n",
       "      <td>4933</td>\n",
       "      <td>4266</td>\n",
       "      <td>43198</td>\n",
       "      <td>43436</td>\n",
       "    </tr>\n",
       "  </tbody>\n",
       "</table>\n",
       "</div>"
      ],
      "text/plain": [
       "              Date Location WindGustDir WindDir9am WindDir3pm RainToday  \\\n",
       "count        56837    56837       56837      56837      56837     56837   \n",
       "unique        3382       34          16         16         16         2   \n",
       "top     2015-03-24   Darwin           E          N          S        No   \n",
       "freq            29     2478        4417       4933       4266     43198   \n",
       "\n",
       "       RainTomorrow  \n",
       "count         56837  \n",
       "unique            2  \n",
       "top              No  \n",
       "freq          43436  "
      ]
     },
     "execution_count": 5,
     "metadata": {},
     "output_type": "execute_result"
    }
   ],
   "source": [
    "train.describe(include=['object'])"
   ]
  },
  {
   "cell_type": "code",
   "execution_count": 6,
   "metadata": {},
   "outputs": [
    {
     "data": {
      "text/html": [
       "<div>\n",
       "<style scoped>\n",
       "    .dataframe tbody tr th:only-of-type {\n",
       "        vertical-align: middle;\n",
       "    }\n",
       "\n",
       "    .dataframe tbody tr th {\n",
       "        vertical-align: top;\n",
       "    }\n",
       "\n",
       "    .dataframe thead th {\n",
       "        text-align: right;\n",
       "    }\n",
       "</style>\n",
       "<table border=\"1\" class=\"dataframe\">\n",
       "  <thead>\n",
       "    <tr style=\"text-align: right;\">\n",
       "      <th></th>\n",
       "      <th>MinTemp</th>\n",
       "      <th>MaxTemp</th>\n",
       "      <th>Rainfall</th>\n",
       "      <th>WindGustSpeed</th>\n",
       "      <th>WindSpeed9am</th>\n",
       "      <th>WindSpeed3pm</th>\n",
       "      <th>Humidity9am</th>\n",
       "      <th>Humidity3pm</th>\n",
       "      <th>Pressure9am</th>\n",
       "      <th>Pressure3pm</th>\n",
       "      <th>Cloud9am</th>\n",
       "      <th>Cloud3pm</th>\n",
       "      <th>Temp9am</th>\n",
       "      <th>Temp3pm</th>\n",
       "    </tr>\n",
       "  </thead>\n",
       "  <tbody>\n",
       "    <tr>\n",
       "      <th>count</th>\n",
       "      <td>56837.000000</td>\n",
       "      <td>56837.000000</td>\n",
       "      <td>56837.000000</td>\n",
       "      <td>56837.000000</td>\n",
       "      <td>56837.000000</td>\n",
       "      <td>56837.000000</td>\n",
       "      <td>56837.000000</td>\n",
       "      <td>56837.000000</td>\n",
       "      <td>56837.000000</td>\n",
       "      <td>56837.000000</td>\n",
       "      <td>56837.000000</td>\n",
       "      <td>56837.000000</td>\n",
       "      <td>56837.000000</td>\n",
       "      <td>56837.000000</td>\n",
       "    </tr>\n",
       "    <tr>\n",
       "      <th>mean</th>\n",
       "      <td>13.196201</td>\n",
       "      <td>23.845697</td>\n",
       "      <td>2.639413</td>\n",
       "      <td>41.070781</td>\n",
       "      <td>15.785738</td>\n",
       "      <td>19.758309</td>\n",
       "      <td>67.076341</td>\n",
       "      <td>50.623115</td>\n",
       "      <td>1017.206059</td>\n",
       "      <td>1014.822230</td>\n",
       "      <td>4.403505</td>\n",
       "      <td>4.485388</td>\n",
       "      <td>17.838799</td>\n",
       "      <td>22.342126</td>\n",
       "    </tr>\n",
       "    <tr>\n",
       "      <th>std</th>\n",
       "      <td>6.443974</td>\n",
       "      <td>7.164237</td>\n",
       "      <td>9.473492</td>\n",
       "      <td>13.376601</td>\n",
       "      <td>8.314862</td>\n",
       "      <td>8.534648</td>\n",
       "      <td>19.009876</td>\n",
       "      <td>20.912191</td>\n",
       "      <td>6.971337</td>\n",
       "      <td>6.928297</td>\n",
       "      <td>2.866300</td>\n",
       "      <td>2.711135</td>\n",
       "      <td>6.607925</td>\n",
       "      <td>7.031607</td>\n",
       "    </tr>\n",
       "    <tr>\n",
       "      <th>min</th>\n",
       "      <td>-6.700000</td>\n",
       "      <td>4.600000</td>\n",
       "      <td>0.000000</td>\n",
       "      <td>9.000000</td>\n",
       "      <td>2.000000</td>\n",
       "      <td>2.000000</td>\n",
       "      <td>1.000000</td>\n",
       "      <td>0.000000</td>\n",
       "      <td>980.500000</td>\n",
       "      <td>977.100000</td>\n",
       "      <td>0.000000</td>\n",
       "      <td>0.000000</td>\n",
       "      <td>-1.000000</td>\n",
       "      <td>1.700000</td>\n",
       "    </tr>\n",
       "    <tr>\n",
       "      <th>25%</th>\n",
       "      <td>8.300000</td>\n",
       "      <td>18.200000</td>\n",
       "      <td>0.000000</td>\n",
       "      <td>31.000000</td>\n",
       "      <td>9.000000</td>\n",
       "      <td>13.000000</td>\n",
       "      <td>55.000000</td>\n",
       "      <td>36.000000</td>\n",
       "      <td>1012.600000</td>\n",
       "      <td>1010.000000</td>\n",
       "      <td>1.000000</td>\n",
       "      <td>2.000000</td>\n",
       "      <td>12.700000</td>\n",
       "      <td>16.900000</td>\n",
       "    </tr>\n",
       "    <tr>\n",
       "      <th>50%</th>\n",
       "      <td>12.900000</td>\n",
       "      <td>23.400000</td>\n",
       "      <td>0.000000</td>\n",
       "      <td>39.000000</td>\n",
       "      <td>15.000000</td>\n",
       "      <td>19.000000</td>\n",
       "      <td>68.000000</td>\n",
       "      <td>51.000000</td>\n",
       "      <td>1017.100000</td>\n",
       "      <td>1014.700000</td>\n",
       "      <td>5.000000</td>\n",
       "      <td>5.000000</td>\n",
       "      <td>17.400000</td>\n",
       "      <td>21.900000</td>\n",
       "    </tr>\n",
       "    <tr>\n",
       "      <th>75%</th>\n",
       "      <td>18.100000</td>\n",
       "      <td>29.300000</td>\n",
       "      <td>1.000000</td>\n",
       "      <td>48.000000</td>\n",
       "      <td>20.000000</td>\n",
       "      <td>24.000000</td>\n",
       "      <td>81.000000</td>\n",
       "      <td>65.000000</td>\n",
       "      <td>1021.900000</td>\n",
       "      <td>1019.500000</td>\n",
       "      <td>7.000000</td>\n",
       "      <td>7.000000</td>\n",
       "      <td>22.900000</td>\n",
       "      <td>27.600000</td>\n",
       "    </tr>\n",
       "    <tr>\n",
       "      <th>max</th>\n",
       "      <td>31.400000</td>\n",
       "      <td>48.100000</td>\n",
       "      <td>367.600000</td>\n",
       "      <td>124.000000</td>\n",
       "      <td>69.000000</td>\n",
       "      <td>76.000000</td>\n",
       "      <td>100.000000</td>\n",
       "      <td>100.000000</td>\n",
       "      <td>1040.400000</td>\n",
       "      <td>1038.900000</td>\n",
       "      <td>8.000000</td>\n",
       "      <td>9.000000</td>\n",
       "      <td>39.400000</td>\n",
       "      <td>46.700000</td>\n",
       "    </tr>\n",
       "  </tbody>\n",
       "</table>\n",
       "</div>"
      ],
      "text/plain": [
       "            MinTemp       MaxTemp      Rainfall  WindGustSpeed  WindSpeed9am  \\\n",
       "count  56837.000000  56837.000000  56837.000000   56837.000000  56837.000000   \n",
       "mean      13.196201     23.845697      2.639413      41.070781     15.785738   \n",
       "std        6.443974      7.164237      9.473492      13.376601      8.314862   \n",
       "min       -6.700000      4.600000      0.000000       9.000000      2.000000   \n",
       "25%        8.300000     18.200000      0.000000      31.000000      9.000000   \n",
       "50%       12.900000     23.400000      0.000000      39.000000     15.000000   \n",
       "75%       18.100000     29.300000      1.000000      48.000000     20.000000   \n",
       "max       31.400000     48.100000    367.600000     124.000000     69.000000   \n",
       "\n",
       "       WindSpeed3pm   Humidity9am   Humidity3pm   Pressure9am   Pressure3pm  \\\n",
       "count  56837.000000  56837.000000  56837.000000  56837.000000  56837.000000   \n",
       "mean      19.758309     67.076341     50.623115   1017.206059   1014.822230   \n",
       "std        8.534648     19.009876     20.912191      6.971337      6.928297   \n",
       "min        2.000000      1.000000      0.000000    980.500000    977.100000   \n",
       "25%       13.000000     55.000000     36.000000   1012.600000   1010.000000   \n",
       "50%       19.000000     68.000000     51.000000   1017.100000   1014.700000   \n",
       "75%       24.000000     81.000000     65.000000   1021.900000   1019.500000   \n",
       "max       76.000000    100.000000    100.000000   1040.400000   1038.900000   \n",
       "\n",
       "           Cloud9am      Cloud3pm       Temp9am       Temp3pm  \n",
       "count  56837.000000  56837.000000  56837.000000  56837.000000  \n",
       "mean       4.403505      4.485388     17.838799     22.342126  \n",
       "std        2.866300      2.711135      6.607925      7.031607  \n",
       "min        0.000000      0.000000     -1.000000      1.700000  \n",
       "25%        1.000000      2.000000     12.700000     16.900000  \n",
       "50%        5.000000      5.000000     17.400000     21.900000  \n",
       "75%        7.000000      7.000000     22.900000     27.600000  \n",
       "max        8.000000      9.000000     39.400000     46.700000  "
      ]
     },
     "execution_count": 6,
     "metadata": {},
     "output_type": "execute_result"
    }
   ],
   "source": [
    "train.describe()"
   ]
  },
  {
   "cell_type": "code",
   "execution_count": 104,
   "metadata": {},
   "outputs": [],
   "source": [
    "train['Month'] = pd.to_datetime(train['Date']).dt.month\n",
    "train['Date'] = pd.to_datetime(train['Date'])"
   ]
  },
  {
   "cell_type": "code",
   "execution_count": 105,
   "metadata": {},
   "outputs": [],
   "source": [
    "test['Month'] = pd.to_datetime(test['Date']).dt.month\n",
    "test['Date'] = pd.to_datetime(test['Date'])"
   ]
  },
  {
   "cell_type": "code",
   "execution_count": 106,
   "metadata": {},
   "outputs": [],
   "source": [
    "train['RainTomorrow'] = train['RainTomorrow'].map({'Yes': 1, 'No': 0})\n",
    "train['RainToday'] = train['RainToday'].map({'Yes': 1, 'No': 0})\n",
    "\n",
    "test['RainTomorrow'] = test['RainTomorrow'].map({'Yes': 1, 'No': 0})\n",
    "test['RainToday'] = test['RainToday'].map({'Yes': 1, 'No': 0})"
   ]
  },
  {
   "cell_type": "code",
   "execution_count": 66,
   "metadata": {
    "scrolled": false
   },
   "outputs": [
    {
     "data": {
      "text/plain": [
       "<AxesSubplot:>"
      ]
     },
     "execution_count": 66,
     "metadata": {},
     "output_type": "execute_result"
    },
    {
     "data": {
      "image/png": "[encoded data removed]",
      "text/plain": [
       "<Figure size 1296x864 with 2 Axes>"
      ]
     },
     "metadata": {
      "needs_background": "light"
     },
     "output_type": "display_data"
    }
   ],
   "source": [
    "plt.figure(figsize=(18,12))\n",
    "sns.heatmap(train.corr(),annot=True)"
   ]
  },
  {
   "cell_type": "code",
   "execution_count": 75,
   "metadata": {},
   "outputs": [],
   "source": [
    "cols = ['Temp9am','Temp3pm','Humidity9am','Date','Pressure3pm']"
   ]
  },
  {
   "cell_type": "code",
   "execution_count": 107,
   "metadata": {},
   "outputs": [],
   "source": [
    "train.drop(cols,axis = 1,inplace = True)\n",
    "test.drop(cols, axis = 1,inplace = True)"
   ]
  },
  {
   "cell_type": "code",
   "execution_count": 108,
   "metadata": {},
   "outputs": [],
   "source": [
    "label = LabelEncoder()"
   ]
  },
  {
   "cell_type": "code",
   "execution_count": 109,
   "metadata": {},
   "outputs": [],
   "source": [
    "for col in train.columns :\n",
    "    if train[col].dtypes == 'object' :\n",
    "        train[col] = label.fit_transform(train[col])"
   ]
  },
  {
   "cell_type": "code",
   "execution_count": 110,
   "metadata": {},
   "outputs": [],
   "source": [
    "for col in test.columns :\n",
    "    if test[col].dtypes == 'object' :\n",
    "        test[col] = label.fit_transform(test[col])"
   ]
  },
  {
   "cell_type": "code",
   "execution_count": 111,
   "metadata": {},
   "outputs": [
    {
     "data": {
      "image/png": "[encoded data removed]",
      "text/plain": [
       "<Figure size 432x288 with 1 Axes>"
      ]
     },
     "metadata": {
      "needs_background": "light"
     },
     "output_type": "display_data"
    },
    {
     "data": {
      "text/plain": [
       "0    0.76422\n",
       "1    0.23578\n",
       "Name: RainTomorrow, dtype: float64"
      ]
     },
     "execution_count": 111,
     "metadata": {},
     "output_type": "execute_result"
    }
   ],
   "source": [
    "cols =  [\"#C2C4E2\",\"#EED4E5\"]\n",
    "sns.countplot(x = train['RainTomorrow'],palette=cols)\n",
    "plt.show()\n",
    "train['RainTomorrow'].value_counts(normalize= True)"
   ]
  },
  {
   "cell_type": "markdown",
   "metadata": {},
   "source": [
    "- 불균형 분포이므로 SMOTE를 통해 균형있게 만들것"
   ]
  },
  {
   "cell_type": "code",
   "execution_count": 117,
   "metadata": {},
   "outputs": [],
   "source": [
    "y = train['RainTomorrow']\n",
    "train.drop(['RainTomorrow'],axis = 1,inplace = True)"
   ]
  },
  {
   "cell_type": "code",
   "execution_count": 114,
   "metadata": {},
   "outputs": [],
   "source": [
    "smote = SMOTE(random_state=42)"
   ]
  },
  {
   "cell_type": "code",
   "execution_count": 118,
   "metadata": {},
   "outputs": [],
   "source": [
    "smote = SMOTE(random_state=42)\n",
    "train_over, y_over = smote.fit_sample(train,y)"
   ]
  },
  {
   "cell_type": "code",
   "execution_count": 123,
   "metadata": {},
   "outputs": [
    {
     "data": {
      "text/plain": [
       "<AxesSubplot:>"
      ]
     },
     "execution_count": 123,
     "metadata": {},
     "output_type": "execute_result"
    },
    {
     "data": {
      "image/png": "[encoded data removed]",
      "text/plain": [
       "<Figure size 432x288 with 1 Axes>"
      ]
     },
     "metadata": {
      "needs_background": "light"
     },
     "output_type": "display_data"
    }
   ],
   "source": [
    "y_over.value_counts(normalize = True).plot.bar()"
   ]
  },
  {
   "cell_type": "markdown",
   "metadata": {},
   "source": [
    "- 몇몇 변수들 이상치가 큰게 있으므로 이상치 최소화해주는 RobustScaler 사용"
   ]
  },
  {
   "cell_type": "code",
   "execution_count": 124,
   "metadata": {},
   "outputs": [],
   "source": [
    "robust = RobustScaler()"
   ]
  },
  {
   "cell_type": "code",
   "execution_count": 125,
   "metadata": {},
   "outputs": [],
   "source": [
    "y_test = test['RainTomorrow']\n",
    "test.drop(['RainTomorrow'],axis = 1,inplace = True)"
   ]
  },
  {
   "cell_type": "code",
   "execution_count": 126,
   "metadata": {},
   "outputs": [],
   "source": [
    "train = pd.DataFrame(robust.fit_transform(train_over),columns=train.columns)\n",
    "test = pd.DataFrame(robust.fit_transform(test),columns=test.columns)"
   ]
  },
  {
   "cell_type": "code",
   "execution_count": 127,
   "metadata": {},
   "outputs": [
    {
     "data": {
      "text/plain": [
       "(86872, 16)"
      ]
     },
     "execution_count": 127,
     "metadata": {},
     "output_type": "execute_result"
    }
   ],
   "source": [
    "train.shape"
   ]
  },
  {
   "cell_type": "code",
   "execution_count": 128,
   "metadata": {},
   "outputs": [
    {
     "data": {
      "text/plain": [
       "(14208, 16)"
      ]
     },
     "execution_count": 128,
     "metadata": {},
     "output_type": "execute_result"
    }
   ],
   "source": [
    "test.shape"
   ]
  },
  {
   "cell_type": "markdown",
   "metadata": {},
   "source": [
    "### 1-2. 예측을 위한 train / test set 구축방법론들을 설명하고 적합한 방법을 선택하고 데이터를 분할하시오.\n",
    "- train test 분할 말고 교차검증기법"
   ]
  },
  {
   "cell_type": "markdown",
   "metadata": {},
   "source": [
    "- 위 Smote를 통해 불균형 분포도를 해결했으니 가장 보편적인 KFOLD를 통해 교차검증을 실시할 것이다.\n",
    "\n",
    "- StratifiedKFold는 target값의 개수를 동일하게 배정하여 KFold의 target 불균형을 막아준다."
   ]
  },
  {
   "cell_type": "code",
   "execution_count": 130,
   "metadata": {},
   "outputs": [],
   "source": [
    "kfold = KFold(n_splits=5,shuffle=True, random_state=123)"
   ]
  },
  {
   "cell_type": "markdown",
   "metadata": {},
   "source": [
    "### 1-3. RandomForest와 LightGBM의 장단점을 설명하고 각 모형을 활용하여 test 데이터에 대한 예측값을 각각 csv로 만드시오.(코드는 주석처리)"
   ]
  },
  {
   "cell_type": "code",
   "execution_count": 214,
   "metadata": {},
   "outputs": [
    {
     "name": "stdout",
     "output_type": "stream",
     "text": [
      "KFold1의 Accuracy : 0.904978417266187\n",
      "\n",
      "KFold2의 Accuracy : 0.9102158273381294\n",
      "\n",
      "KFold3의 Accuracy : 0.9077356970185334\n",
      "\n",
      "KFold4의 Accuracy : 0.9083688269828479\n",
      "\n",
      "KFold5의 Accuracy : 0.9015195119143548\n",
      "\n"
     ]
    }
   ],
   "source": [
    "lgbm = LGBMClassifier(random_state=123, n_jobs=-1, learning_rate=0.08, n_estimators=1000,max_depth=-1)\n",
    "lgbm_pred = np.zeros((test.shape[0]))\n",
    "\n",
    "i = 0\n",
    "for tr, val in kfold.split(train,y_over) :\n",
    "    i += 1\n",
    "    X_train,y_train = train.iloc[tr],y_over.iloc[tr]\n",
    "    X_val,y_val = train.iloc[val],y_over.iloc[val]\n",
    "    \n",
    "    lgbm.fit(X_train,y_train)\n",
    "    pred = lgbm.predict(X_val)\n",
    "    \n",
    "    print(\"KFold{}의 Accuracy : {}\\n\".format(i,accuracy_score(y_val,pred)))\n",
    "    sub_pred = lgbm.predict_proba(test)[:,1] / 5\n",
    "    lgbm_pred += sub_pred"
   ]
  },
  {
   "cell_type": "code",
   "execution_count": null,
   "metadata": {},
   "outputs": [],
   "source": [
    "### pd.DataFrame((lgbm_pred > 0.5).astype('int64'),columns=['RainTommorw']).to_csv(\"LGBM.csv\",index = False)"
   ]
  },
  {
   "cell_type": "markdown",
   "metadata": {},
   "source": [
    " - 메모리 사용량도 상대적으로 적고 Category형 Feature 자동 변환과 최적 분할을 해주는 장점이 있으나 적은 데이터 세트에 적용할 경우 과적합이 발생하기 쉽다는 단점이 있다."
   ]
  },
  {
   "cell_type": "code",
   "execution_count": 233,
   "metadata": {},
   "outputs": [],
   "source": [
    "rf = RandomForestClassifier(random_state = 123, n_jobs=-1, n_estimators=100)\n",
    "rf_pred = np.zeros((test.shape[0]))"
   ]
  },
  {
   "cell_type": "code",
   "execution_count": 234,
   "metadata": {},
   "outputs": [
    {
     "name": "stdout",
     "output_type": "stream",
     "text": [
      "KFold1의 Accuracy : 0.9034820143884892\n",
      "\n",
      "KFold2의 Accuracy : 0.9089496402877698\n",
      "\n",
      "KFold3의 Accuracy : 0.9075054679406009\n",
      "\n",
      "KFold4의 Accuracy : 0.9097502014504432\n",
      "\n",
      "KFold5의 Accuracy : 0.9017497409922873\n",
      "\n"
     ]
    }
   ],
   "source": [
    "i = 0\n",
    "for tr, val in kfold.split(train,y_over) :\n",
    "    i += 1\n",
    "    X_train,y_train = train.iloc[tr],y_over.iloc[tr]\n",
    "    X_val,y_val = train.iloc[val],y_over.iloc[val]\n",
    "    \n",
    "    rf.fit(X_train,y_train)\n",
    "    pred = rf.predict(X_val)\n",
    "    \n",
    "    print(\"KFold{}의 Accuracy : {}\\n\".format(i,accuracy_score(y_val,pred)))\n",
    "    sub_pred = rf.predict_proba(test)[:,1] / 5\n",
    "    rf_pred += sub_pred"
   ]
  },
  {
   "cell_type": "markdown",
   "metadata": {},
   "source": [
    "- 룰이 매우 명호가하고 시각화가 가능하다. 또한, 결정트리로서 쉽고 직관적인 장점을 그대로 살리고 있으나 튜닝을 위한 많은 시간이 소모된다는 단점이 있다."
   ]
  },
  {
   "cell_type": "code",
   "execution_count": null,
   "metadata": {},
   "outputs": [],
   "source": [
    "### pd.DataFrame((rf_pred>0.5).astype('int64'),columns=['RainTommorow']).to_csv(\"RF.csv\",index = False)"
   ]
  },
  {
   "cell_type": "markdown",
   "metadata": {},
   "source": [
    "### 1-4. 생성된 모형들의 성과분석을 실시하고 정확도를 비교하고 설명하시오. 또한 Roc-curve를 그리고 AUC 값을 산출하시오."
   ]
  },
  {
   "cell_type": "code",
   "execution_count": 240,
   "metadata": {},
   "outputs": [
    {
     "data": {
      "text/plain": [
       "<sklearn.metrics._plot.roc_curve.RocCurveDisplay at 0x2228cbfd8c8>"
      ]
     },
     "execution_count": 240,
     "metadata": {},
     "output_type": "execute_result"
    },
    {
     "data": {
      "image/png": "[encoded data removed]",
      "text/plain": [
       "<Figure size 432x288 with 1 Axes>"
      ]
     },
     "metadata": {
      "needs_background": "light"
     },
     "output_type": "display_data"
    }
   ],
   "source": [
    "plot_roc_curve(lgbm,test,y_test)"
   ]
  },
  {
   "cell_type": "code",
   "execution_count": 242,
   "metadata": {},
   "outputs": [],
   "source": [
    "from sklearn.metrics import auc"
   ]
  },
  {
   "cell_type": "code",
   "execution_count": 245,
   "metadata": {},
   "outputs": [
    {
     "data": {
      "text/plain": [
       "0.9865338614334088"
      ]
     },
     "execution_count": 245,
     "metadata": {},
     "output_type": "execute_result"
    }
   ],
   "source": [
    "auc(y_test,lgbm_pred)"
   ]
  },
  {
   "cell_type": "code",
   "execution_count": 246,
   "metadata": {},
   "outputs": [
    {
     "data": {
      "text/plain": [
       "0.87"
      ]
     },
     "execution_count": 246,
     "metadata": {},
     "output_type": "execute_result"
    }
   ],
   "source": [
    "auc(y_test,rf_pred)"
   ]
  },
  {
   "cell_type": "code",
   "execution_count": 241,
   "metadata": {},
   "outputs": [
    {
     "data": {
      "text/plain": [
       "<sklearn.metrics._plot.roc_curve.RocCurveDisplay at 0x2228ebaf7c8>"
      ]
     },
     "execution_count": 241,
     "metadata": {},
     "output_type": "execute_result"
    },
    {
     "data": {
      "image/png": "[encoded data removed]",
      "text/plain": [
       "<Figure size 432x288 with 1 Axes>"
      ]
     },
     "metadata": {
      "needs_background": "light"
     },
     "output_type": "display_data"
    }
   ],
   "source": [
    "plot_roc_curve(rf,test,y_test)"
   ]
  },
  {
   "cell_type": "markdown",
   "metadata": {},
   "source": [
    "***\n",
    "## 2. 연관분석\n",
    "\n",
    "### 2-1. 연관분석의 측도의 종류와 의미를 설명하고 연관분석의 장단점을 서술하시오."
   ]
  },
  {
   "cell_type": "markdown",
   "metadata": {},
   "source": [
    "- 지지도 : 전체 거래 중 항목 A와 항목 B를 동시에 포함하는 거래비율을 의미한다.\n",
    "- 신뢰도 : 항목 A를 포함한 거래 중에서 항목 A와 항목 B가 같이 포함될 확률으로 연관성의 정도를 파악할 수 있다.\n",
    "- 향상도 : A가 주어지지 않았을 때의 품목 B의 확률에 비해 A가 주어졌을 때의 품목 B의 증가 비율. 품목A와 품목B가 구매가 서로 관련이 없는 경우에 향상도는 1이 된다. 1이라면 우연적인 경우로, x와 y의 관계가 독립이지만, 1보다 크거나 작다면 우연이 아닌 필연적인 관계에 있음.\n"
   ]
  },
  {
   "cell_type": "markdown",
   "metadata": {},
   "source": [
    "### 장단점\n",
    "장점\n",
    "- 탐색적인 기법\n",
    "- 강력한 비목적성 분석기법 : 목적변수가 없으므로 유용하게 활용\n",
    "- 사용이 편리한 분석 데이터의 형태\n",
    "- 계산의 용이성\n",
    "\n",
    "단점 \n",
    "- 상당한 수의 계산 과정(유사한 품목을 한 범주로 일반화(이러면 요인이나 PCA로 묶을 수 있을 것 같다는 생각이 든다.)\n",
    "- 적절한 품목의 결정 : 너무 세분화 -> 의미 없는 분석이 될 수도 있다.\n",
    "- 품목의 비율차이 : 거래량이 적은 품목은 거래수가 적을 것이고 당연히 규칙 발견 시 제외하기 쉽다."
   ]
  },
  {
   "cell_type": "code",
   "execution_count": 247,
   "metadata": {},
   "outputs": [],
   "source": [
    "from mlxtend.preprocessing import TransactionEncoder\n",
    "from mlxtend.frequent_patterns import apriori, association_rules"
   ]
  },
  {
   "cell_type": "markdown",
   "metadata": {},
   "source": [
    "### 2-2. 고객(cust_id)별로 구매한 품목 리스트를 기준으로 연관분석을 실시하시오.(최소 지지도 0.05 이상)"
   ]
  },
  {
   "cell_type": "code",
   "execution_count": 362,
   "metadata": {},
   "outputs": [],
   "source": [
    "df = pd.read_table('dataTransactions.tab',encoding = 'cp949')"
   ]
  },
  {
   "cell_type": "code",
   "execution_count": 363,
   "metadata": {},
   "outputs": [],
   "source": [
    "df['datetime'] = [df['datetime'][i].split(' ')[0] for i in range(len(df))]"
   ]
  },
  {
   "cell_type": "code",
   "execution_count": 365,
   "metadata": {},
   "outputs": [],
   "source": [
    "df['datetime'] = pd.to_datetime(df['datetime'])"
   ]
  },
  {
   "cell_type": "code",
   "execution_count": 366,
   "metadata": {},
   "outputs": [
    {
     "data": {
      "text/html": [
       "<div>\n",
       "<style scoped>\n",
       "    .dataframe tbody tr th:only-of-type {\n",
       "        vertical-align: middle;\n",
       "    }\n",
       "\n",
       "    .dataframe tbody tr th {\n",
       "        vertical-align: top;\n",
       "    }\n",
       "\n",
       "    .dataframe thead th {\n",
       "        text-align: right;\n",
       "    }\n",
       "</style>\n",
       "<table border=\"1\" class=\"dataframe\">\n",
       "  <thead>\n",
       "    <tr style=\"text-align: right;\">\n",
       "      <th></th>\n",
       "      <th>store</th>\n",
       "      <th>brand</th>\n",
       "      <th>corner</th>\n",
       "    </tr>\n",
       "  </thead>\n",
       "  <tbody>\n",
       "    <tr>\n",
       "      <th>count</th>\n",
       "      <td>19125</td>\n",
       "      <td>19125</td>\n",
       "      <td>19125</td>\n",
       "    </tr>\n",
       "    <tr>\n",
       "      <th>unique</th>\n",
       "      <td>4</td>\n",
       "      <td>1191</td>\n",
       "      <td>26</td>\n",
       "    </tr>\n",
       "    <tr>\n",
       "      <th>top</th>\n",
       "      <td>신촌점</td>\n",
       "      <td>식품</td>\n",
       "      <td>일반식품</td>\n",
       "    </tr>\n",
       "    <tr>\n",
       "      <th>freq</th>\n",
       "      <td>6110</td>\n",
       "      <td>5267</td>\n",
       "      <td>5267</td>\n",
       "    </tr>\n",
       "  </tbody>\n",
       "</table>\n",
       "</div>"
      ],
      "text/plain": [
       "        store  brand corner\n",
       "count   19125  19125  19125\n",
       "unique      4   1191     26\n",
       "top       신촌점     식품   일반식품\n",
       "freq     6110   5267   5267"
      ]
     },
     "execution_count": 366,
     "metadata": {},
     "output_type": "execute_result"
    }
   ],
   "source": [
    "df.describe(include='object')"
   ]
  },
  {
   "cell_type": "code",
   "execution_count": 352,
   "metadata": {},
   "outputs": [],
   "source": [
    "range_value = df_tmp['cust'].nunique()+1"
   ]
  },
  {
   "cell_type": "code",
   "execution_count": 369,
   "metadata": {},
   "outputs": [],
   "source": [
    "association_df = df.groupby(['custid','datetime'])['corner'].agg(lambda x : list(x)).reset_index()"
   ]
  },
  {
   "cell_type": "code",
   "execution_count": 376,
   "metadata": {},
   "outputs": [],
   "source": [
    "association_df['corners'] = [list(set(association_df['corner'][i])) for i in range(len(association_df))]"
   ]
  },
  {
   "cell_type": "code",
   "execution_count": 378,
   "metadata": {},
   "outputs": [],
   "source": [
    "te = TransactionEncoder()\n",
    "te_ary = te.fit(association_df['corners']).transform(association_df['corners'])\n",
    "df = pd.DataFrame(te_ary, columns=te.columns_)"
   ]
  },
  {
   "cell_type": "code",
   "execution_count": 402,
   "metadata": {},
   "outputs": [],
   "source": [
    "association = apriori(df,min_support=0.01, use_colnames=True)"
   ]
  },
  {
   "cell_type": "code",
   "execution_count": 410,
   "metadata": {},
   "outputs": [
    {
     "data": {
      "text/html": [
       "<div>\n",
       "<style scoped>\n",
       "    .dataframe tbody tr th:only-of-type {\n",
       "        vertical-align: middle;\n",
       "    }\n",
       "\n",
       "    .dataframe tbody tr th {\n",
       "        vertical-align: top;\n",
       "    }\n",
       "\n",
       "    .dataframe thead th {\n",
       "        text-align: right;\n",
       "    }\n",
       "</style>\n",
       "<table border=\"1\" class=\"dataframe\">\n",
       "  <thead>\n",
       "    <tr style=\"text-align: right;\">\n",
       "      <th></th>\n",
       "      <th>support</th>\n",
       "      <th>itemsets</th>\n",
       "    </tr>\n",
       "  </thead>\n",
       "  <tbody>\n",
       "    <tr>\n",
       "      <th>0</th>\n",
       "      <td>0.021745</td>\n",
       "      <td>(가전)</td>\n",
       "    </tr>\n",
       "    <tr>\n",
       "      <th>1</th>\n",
       "      <td>0.018736</td>\n",
       "      <td>(기타)</td>\n",
       "    </tr>\n",
       "    <tr>\n",
       "      <th>2</th>\n",
       "      <td>0.060674</td>\n",
       "      <td>(니트단품)</td>\n",
       "    </tr>\n",
       "    <tr>\n",
       "      <th>3</th>\n",
       "      <td>0.016989</td>\n",
       "      <td>(도자기크리스탈)</td>\n",
       "    </tr>\n",
       "    <tr>\n",
       "      <th>4</th>\n",
       "      <td>0.012620</td>\n",
       "      <td>(디자이너부띠끄)</td>\n",
       "    </tr>\n",
       "    <tr>\n",
       "      <th>5</th>\n",
       "      <td>0.044268</td>\n",
       "      <td>(문화완구)</td>\n",
       "    </tr>\n",
       "    <tr>\n",
       "      <th>6</th>\n",
       "      <td>0.059509</td>\n",
       "      <td>(섬유)</td>\n",
       "    </tr>\n",
       "    <tr>\n",
       "      <th>7</th>\n",
       "      <td>0.027182</td>\n",
       "      <td>(수입명품)</td>\n",
       "    </tr>\n",
       "    <tr>\n",
       "      <th>8</th>\n",
       "      <td>0.083681</td>\n",
       "      <td>(스포츠)</td>\n",
       "    </tr>\n",
       "    <tr>\n",
       "      <th>9</th>\n",
       "      <td>0.034074</td>\n",
       "      <td>(엘레강스캐주얼)</td>\n",
       "    </tr>\n",
       "    <tr>\n",
       "      <th>10</th>\n",
       "      <td>0.068925</td>\n",
       "      <td>(영캐주얼)</td>\n",
       "    </tr>\n",
       "    <tr>\n",
       "      <th>11</th>\n",
       "      <td>0.086011</td>\n",
       "      <td>(유니캐주얼)</td>\n",
       "    </tr>\n",
       "    <tr>\n",
       "      <th>12</th>\n",
       "      <td>0.097757</td>\n",
       "      <td>(유아동복)</td>\n",
       "    </tr>\n",
       "    <tr>\n",
       "      <th>13</th>\n",
       "      <td>0.413261</td>\n",
       "      <td>(일반식품)</td>\n",
       "    </tr>\n",
       "    <tr>\n",
       "      <th>14</th>\n",
       "      <td>0.039511</td>\n",
       "      <td>(장신구)</td>\n",
       "    </tr>\n",
       "    <tr>\n",
       "      <th>15</th>\n",
       "      <td>0.024852</td>\n",
       "      <td>(정장셔츠)</td>\n",
       "    </tr>\n",
       "    <tr>\n",
       "      <th>16</th>\n",
       "      <td>0.034851</td>\n",
       "      <td>(조리욕실)</td>\n",
       "    </tr>\n",
       "    <tr>\n",
       "      <th>17</th>\n",
       "      <td>0.011261</td>\n",
       "      <td>(침구수예)</td>\n",
       "    </tr>\n",
       "    <tr>\n",
       "      <th>18</th>\n",
       "      <td>0.059703</td>\n",
       "      <td>(캐릭터캐주얼)</td>\n",
       "    </tr>\n",
       "    <tr>\n",
       "      <th>19</th>\n",
       "      <td>0.042520</td>\n",
       "      <td>(트래디셔널캐주얼)</td>\n",
       "    </tr>\n",
       "    <tr>\n",
       "      <th>20</th>\n",
       "      <td>0.080186</td>\n",
       "      <td>(피혁)</td>\n",
       "    </tr>\n",
       "    <tr>\n",
       "      <th>21</th>\n",
       "      <td>0.169983</td>\n",
       "      <td>(화장품)</td>\n",
       "    </tr>\n",
       "    <tr>\n",
       "      <th>22</th>\n",
       "      <td>0.013882</td>\n",
       "      <td>(일반식품, 니트단품)</td>\n",
       "    </tr>\n",
       "    <tr>\n",
       "      <th>23</th>\n",
       "      <td>0.010096</td>\n",
       "      <td>(유아동복, 문화완구)</td>\n",
       "    </tr>\n",
       "    <tr>\n",
       "      <th>24</th>\n",
       "      <td>0.013882</td>\n",
       "      <td>(일반식품, 문화완구)</td>\n",
       "    </tr>\n",
       "    <tr>\n",
       "      <th>25</th>\n",
       "      <td>0.015435</td>\n",
       "      <td>(일반식품, 섬유)</td>\n",
       "    </tr>\n",
       "    <tr>\n",
       "      <th>26</th>\n",
       "      <td>0.010290</td>\n",
       "      <td>(섬유, 화장품)</td>\n",
       "    </tr>\n",
       "    <tr>\n",
       "      <th>27</th>\n",
       "      <td>0.018056</td>\n",
       "      <td>(일반식품, 스포츠)</td>\n",
       "    </tr>\n",
       "    <tr>\n",
       "      <th>28</th>\n",
       "      <td>0.010581</td>\n",
       "      <td>(스포츠, 화장품)</td>\n",
       "    </tr>\n",
       "    <tr>\n",
       "      <th>29</th>\n",
       "      <td>0.013882</td>\n",
       "      <td>(일반식품, 영캐주얼)</td>\n",
       "    </tr>\n",
       "    <tr>\n",
       "      <th>30</th>\n",
       "      <td>0.011844</td>\n",
       "      <td>(영캐주얼, 화장품)</td>\n",
       "    </tr>\n",
       "    <tr>\n",
       "      <th>31</th>\n",
       "      <td>0.015630</td>\n",
       "      <td>(일반식품, 유니캐주얼)</td>\n",
       "    </tr>\n",
       "    <tr>\n",
       "      <th>32</th>\n",
       "      <td>0.024075</td>\n",
       "      <td>(일반식품, 유아동복)</td>\n",
       "    </tr>\n",
       "    <tr>\n",
       "      <th>33</th>\n",
       "      <td>0.013397</td>\n",
       "      <td>(일반식품, 조리욕실)</td>\n",
       "    </tr>\n",
       "    <tr>\n",
       "      <th>34</th>\n",
       "      <td>0.015921</td>\n",
       "      <td>(일반식품, 피혁)</td>\n",
       "    </tr>\n",
       "    <tr>\n",
       "      <th>35</th>\n",
       "      <td>0.033201</td>\n",
       "      <td>(일반식품, 화장품)</td>\n",
       "    </tr>\n",
       "    <tr>\n",
       "      <th>36</th>\n",
       "      <td>0.011261</td>\n",
       "      <td>(피혁, 화장품)</td>\n",
       "    </tr>\n",
       "  </tbody>\n",
       "</table>\n",
       "</div>"
      ],
      "text/plain": [
       "     support       itemsets\n",
       "0   0.021745           (가전)\n",
       "1   0.018736           (기타)\n",
       "2   0.060674         (니트단품)\n",
       "3   0.016989      (도자기크리스탈)\n",
       "4   0.012620      (디자이너부띠끄)\n",
       "5   0.044268         (문화완구)\n",
       "6   0.059509           (섬유)\n",
       "7   0.027182         (수입명품)\n",
       "8   0.083681          (스포츠)\n",
       "9   0.034074      (엘레강스캐주얼)\n",
       "10  0.068925         (영캐주얼)\n",
       "11  0.086011        (유니캐주얼)\n",
       "12  0.097757         (유아동복)\n",
       "13  0.413261         (일반식품)\n",
       "14  0.039511          (장신구)\n",
       "15  0.024852         (정장셔츠)\n",
       "16  0.034851         (조리욕실)\n",
       "17  0.011261         (침구수예)\n",
       "18  0.059703       (캐릭터캐주얼)\n",
       "19  0.042520     (트래디셔널캐주얼)\n",
       "20  0.080186           (피혁)\n",
       "21  0.169983          (화장품)\n",
       "22  0.013882   (일반식품, 니트단품)\n",
       "23  0.010096   (유아동복, 문화완구)\n",
       "24  0.013882   (일반식품, 문화완구)\n",
       "25  0.015435     (일반식품, 섬유)\n",
       "26  0.010290      (섬유, 화장품)\n",
       "27  0.018056    (일반식품, 스포츠)\n",
       "28  0.010581     (스포츠, 화장품)\n",
       "29  0.013882   (일반식품, 영캐주얼)\n",
       "30  0.011844    (영캐주얼, 화장품)\n",
       "31  0.015630  (일반식품, 유니캐주얼)\n",
       "32  0.024075   (일반식품, 유아동복)\n",
       "33  0.013397   (일반식품, 조리욕실)\n",
       "34  0.015921     (일반식품, 피혁)\n",
       "35  0.033201    (일반식품, 화장품)\n",
       "36  0.011261      (피혁, 화장품)"
      ]
     },
     "execution_count": 410,
     "metadata": {},
     "output_type": "execute_result"
    }
   ],
   "source": [
    "association"
   ]
  },
  {
   "cell_type": "code",
   "execution_count": 418,
   "metadata": {},
   "outputs": [],
   "source": [
    "association['length'] = association['itemsets'].apply(lambda x : len(x))\n"
   ]
  },
  {
   "cell_type": "code",
   "execution_count": 422,
   "metadata": {},
   "outputs": [
    {
     "data": {
      "text/html": [
       "<div>\n",
       "<style scoped>\n",
       "    .dataframe tbody tr th:only-of-type {\n",
       "        vertical-align: middle;\n",
       "    }\n",
       "\n",
       "    .dataframe tbody tr th {\n",
       "        vertical-align: top;\n",
       "    }\n",
       "\n",
       "    .dataframe thead th {\n",
       "        text-align: right;\n",
       "    }\n",
       "</style>\n",
       "<table border=\"1\" class=\"dataframe\">\n",
       "  <thead>\n",
       "    <tr style=\"text-align: right;\">\n",
       "      <th></th>\n",
       "      <th>support</th>\n",
       "      <th>itemsets</th>\n",
       "      <th>length</th>\n",
       "    </tr>\n",
       "  </thead>\n",
       "  <tbody>\n",
       "    <tr>\n",
       "      <th>35</th>\n",
       "      <td>0.033201</td>\n",
       "      <td>(일반식품, 화장품)</td>\n",
       "      <td>2</td>\n",
       "    </tr>\n",
       "    <tr>\n",
       "      <th>32</th>\n",
       "      <td>0.024075</td>\n",
       "      <td>(일반식품, 유아동복)</td>\n",
       "      <td>2</td>\n",
       "    </tr>\n",
       "    <tr>\n",
       "      <th>27</th>\n",
       "      <td>0.018056</td>\n",
       "      <td>(일반식품, 스포츠)</td>\n",
       "      <td>2</td>\n",
       "    </tr>\n",
       "    <tr>\n",
       "      <th>34</th>\n",
       "      <td>0.015921</td>\n",
       "      <td>(일반식품, 피혁)</td>\n",
       "      <td>2</td>\n",
       "    </tr>\n",
       "    <tr>\n",
       "      <th>31</th>\n",
       "      <td>0.015630</td>\n",
       "      <td>(일반식품, 유니캐주얼)</td>\n",
       "      <td>2</td>\n",
       "    </tr>\n",
       "    <tr>\n",
       "      <th>25</th>\n",
       "      <td>0.015435</td>\n",
       "      <td>(일반식품, 섬유)</td>\n",
       "      <td>2</td>\n",
       "    </tr>\n",
       "    <tr>\n",
       "      <th>22</th>\n",
       "      <td>0.013882</td>\n",
       "      <td>(일반식품, 니트단품)</td>\n",
       "      <td>2</td>\n",
       "    </tr>\n",
       "    <tr>\n",
       "      <th>24</th>\n",
       "      <td>0.013882</td>\n",
       "      <td>(일반식품, 문화완구)</td>\n",
       "      <td>2</td>\n",
       "    </tr>\n",
       "    <tr>\n",
       "      <th>29</th>\n",
       "      <td>0.013882</td>\n",
       "      <td>(일반식품, 영캐주얼)</td>\n",
       "      <td>2</td>\n",
       "    </tr>\n",
       "    <tr>\n",
       "      <th>33</th>\n",
       "      <td>0.013397</td>\n",
       "      <td>(일반식품, 조리욕실)</td>\n",
       "      <td>2</td>\n",
       "    </tr>\n",
       "    <tr>\n",
       "      <th>30</th>\n",
       "      <td>0.011844</td>\n",
       "      <td>(영캐주얼, 화장품)</td>\n",
       "      <td>2</td>\n",
       "    </tr>\n",
       "    <tr>\n",
       "      <th>36</th>\n",
       "      <td>0.011261</td>\n",
       "      <td>(피혁, 화장품)</td>\n",
       "      <td>2</td>\n",
       "    </tr>\n",
       "    <tr>\n",
       "      <th>28</th>\n",
       "      <td>0.010581</td>\n",
       "      <td>(스포츠, 화장품)</td>\n",
       "      <td>2</td>\n",
       "    </tr>\n",
       "    <tr>\n",
       "      <th>26</th>\n",
       "      <td>0.010290</td>\n",
       "      <td>(섬유, 화장품)</td>\n",
       "      <td>2</td>\n",
       "    </tr>\n",
       "    <tr>\n",
       "      <th>23</th>\n",
       "      <td>0.010096</td>\n",
       "      <td>(유아동복, 문화완구)</td>\n",
       "      <td>2</td>\n",
       "    </tr>\n",
       "  </tbody>\n",
       "</table>\n",
       "</div>"
      ],
      "text/plain": [
       "     support       itemsets  length\n",
       "35  0.033201    (일반식품, 화장품)       2\n",
       "32  0.024075   (일반식품, 유아동복)       2\n",
       "27  0.018056    (일반식품, 스포츠)       2\n",
       "34  0.015921     (일반식품, 피혁)       2\n",
       "31  0.015630  (일반식품, 유니캐주얼)       2\n",
       "25  0.015435     (일반식품, 섬유)       2\n",
       "22  0.013882   (일반식품, 니트단품)       2\n",
       "24  0.013882   (일반식품, 문화완구)       2\n",
       "29  0.013882   (일반식품, 영캐주얼)       2\n",
       "33  0.013397   (일반식품, 조리욕실)       2\n",
       "30  0.011844    (영캐주얼, 화장품)       2\n",
       "36  0.011261      (피혁, 화장품)       2\n",
       "28  0.010581     (스포츠, 화장품)       2\n",
       "26  0.010290      (섬유, 화장품)       2\n",
       "23  0.010096   (유아동복, 문화완구)       2"
      ]
     },
     "execution_count": 422,
     "metadata": {},
     "output_type": "execute_result"
    }
   ],
   "source": [
    "association.loc[association['length']>1].sort_values(by='support',ascending = False)"
   ]
  },
  {
   "cell_type": "markdown",
   "metadata": {},
   "source": [
    "- 일반식품과 화장품을 동시에 살 확률이 제일 높다"
   ]
  },
  {
   "cell_type": "markdown",
   "metadata": {},
   "source": [
    "- 최소 지지도 0.01로 하고 밑에 규칙만드는거는 너가 임의로 만들고 해석만 ㄱ ㄱ"
   ]
  },
  {
   "cell_type": "markdown",
   "metadata": {},
   "source": [
    "### 2-3. 연관분석 결과 구매 품목이 2개 미만인 고객은 제외한 후 분석결과를 2-1에서 언급한 연관분석 측도를 기준으로 해석하시오."
   ]
  },
  {
   "cell_type": "code",
   "execution_count": 417,
   "metadata": {
    "scrolled": true
   },
   "outputs": [
    {
     "data": {
      "text/html": [
       "<div>\n",
       "<style scoped>\n",
       "    .dataframe tbody tr th:only-of-type {\n",
       "        vertical-align: middle;\n",
       "    }\n",
       "\n",
       "    .dataframe tbody tr th {\n",
       "        vertical-align: top;\n",
       "    }\n",
       "\n",
       "    .dataframe thead th {\n",
       "        text-align: right;\n",
       "    }\n",
       "</style>\n",
       "<table border=\"1\" class=\"dataframe\">\n",
       "  <thead>\n",
       "    <tr style=\"text-align: right;\">\n",
       "      <th></th>\n",
       "      <th>antecedents</th>\n",
       "      <th>consequents</th>\n",
       "      <th>antecedent support</th>\n",
       "      <th>consequent support</th>\n",
       "      <th>support</th>\n",
       "      <th>confidence</th>\n",
       "      <th>lift</th>\n",
       "      <th>leverage</th>\n",
       "      <th>conviction</th>\n",
       "    </tr>\n",
       "  </thead>\n",
       "  <tbody>\n",
       "    <tr>\n",
       "      <th>0</th>\n",
       "      <td>(유아동복)</td>\n",
       "      <td>(문화완구)</td>\n",
       "      <td>0.097757</td>\n",
       "      <td>0.044268</td>\n",
       "      <td>0.010096</td>\n",
       "      <td>0.103277</td>\n",
       "      <td>2.333020</td>\n",
       "      <td>0.005769</td>\n",
       "      <td>1.065806</td>\n",
       "    </tr>\n",
       "    <tr>\n",
       "      <th>1</th>\n",
       "      <td>(문화완구)</td>\n",
       "      <td>(유아동복)</td>\n",
       "      <td>0.044268</td>\n",
       "      <td>0.097757</td>\n",
       "      <td>0.010096</td>\n",
       "      <td>0.228070</td>\n",
       "      <td>2.333020</td>\n",
       "      <td>0.005769</td>\n",
       "      <td>1.168814</td>\n",
       "    </tr>\n",
       "    <tr>\n",
       "      <th>2</th>\n",
       "      <td>(섬유)</td>\n",
       "      <td>(화장품)</td>\n",
       "      <td>0.059509</td>\n",
       "      <td>0.169983</td>\n",
       "      <td>0.010290</td>\n",
       "      <td>0.172920</td>\n",
       "      <td>1.017276</td>\n",
       "      <td>0.000175</td>\n",
       "      <td>1.003551</td>\n",
       "    </tr>\n",
       "    <tr>\n",
       "      <th>3</th>\n",
       "      <td>(화장품)</td>\n",
       "      <td>(섬유)</td>\n",
       "      <td>0.169983</td>\n",
       "      <td>0.059509</td>\n",
       "      <td>0.010290</td>\n",
       "      <td>0.060537</td>\n",
       "      <td>1.017276</td>\n",
       "      <td>0.000175</td>\n",
       "      <td>1.001094</td>\n",
       "    </tr>\n",
       "    <tr>\n",
       "      <th>4</th>\n",
       "      <td>(영캐주얼)</td>\n",
       "      <td>(화장품)</td>\n",
       "      <td>0.068925</td>\n",
       "      <td>0.169983</td>\n",
       "      <td>0.011844</td>\n",
       "      <td>0.171831</td>\n",
       "      <td>1.010869</td>\n",
       "      <td>0.000127</td>\n",
       "      <td>1.002231</td>\n",
       "    </tr>\n",
       "    <tr>\n",
       "      <th>5</th>\n",
       "      <td>(화장품)</td>\n",
       "      <td>(영캐주얼)</td>\n",
       "      <td>0.169983</td>\n",
       "      <td>0.068925</td>\n",
       "      <td>0.011844</td>\n",
       "      <td>0.069674</td>\n",
       "      <td>1.010869</td>\n",
       "      <td>0.000127</td>\n",
       "      <td>1.000805</td>\n",
       "    </tr>\n",
       "    <tr>\n",
       "      <th>6</th>\n",
       "      <td>(일반식품)</td>\n",
       "      <td>(조리욕실)</td>\n",
       "      <td>0.413261</td>\n",
       "      <td>0.034851</td>\n",
       "      <td>0.013397</td>\n",
       "      <td>0.032417</td>\n",
       "      <td>0.930166</td>\n",
       "      <td>-0.001006</td>\n",
       "      <td>0.997485</td>\n",
       "    </tr>\n",
       "    <tr>\n",
       "      <th>7</th>\n",
       "      <td>(조리욕실)</td>\n",
       "      <td>(일반식품)</td>\n",
       "      <td>0.034851</td>\n",
       "      <td>0.413261</td>\n",
       "      <td>0.013397</td>\n",
       "      <td>0.384401</td>\n",
       "      <td>0.930166</td>\n",
       "      <td>-0.001006</td>\n",
       "      <td>0.953119</td>\n",
       "    </tr>\n",
       "    <tr>\n",
       "      <th>8</th>\n",
       "      <td>(피혁)</td>\n",
       "      <td>(화장품)</td>\n",
       "      <td>0.080186</td>\n",
       "      <td>0.169983</td>\n",
       "      <td>0.011261</td>\n",
       "      <td>0.140436</td>\n",
       "      <td>0.826173</td>\n",
       "      <td>-0.002369</td>\n",
       "      <td>0.965625</td>\n",
       "    </tr>\n",
       "    <tr>\n",
       "      <th>9</th>\n",
       "      <td>(화장품)</td>\n",
       "      <td>(피혁)</td>\n",
       "      <td>0.169983</td>\n",
       "      <td>0.080186</td>\n",
       "      <td>0.011261</td>\n",
       "      <td>0.066248</td>\n",
       "      <td>0.826173</td>\n",
       "      <td>-0.002369</td>\n",
       "      <td>0.985073</td>\n",
       "    </tr>\n",
       "  </tbody>\n",
       "</table>\n",
       "</div>"
      ],
      "text/plain": [
       "  antecedents consequents  antecedent support  consequent support   support  \\\n",
       "0      (유아동복)      (문화완구)            0.097757            0.044268  0.010096   \n",
       "1      (문화완구)      (유아동복)            0.044268            0.097757  0.010096   \n",
       "2        (섬유)       (화장품)            0.059509            0.169983  0.010290   \n",
       "3       (화장품)        (섬유)            0.169983            0.059509  0.010290   \n",
       "4      (영캐주얼)       (화장품)            0.068925            0.169983  0.011844   \n",
       "5       (화장품)      (영캐주얼)            0.169983            0.068925  0.011844   \n",
       "6      (일반식품)      (조리욕실)            0.413261            0.034851  0.013397   \n",
       "7      (조리욕실)      (일반식품)            0.034851            0.413261  0.013397   \n",
       "8        (피혁)       (화장품)            0.080186            0.169983  0.011261   \n",
       "9       (화장품)        (피혁)            0.169983            0.080186  0.011261   \n",
       "\n",
       "   confidence      lift  leverage  conviction  \n",
       "0    0.103277  2.333020  0.005769    1.065806  \n",
       "1    0.228070  2.333020  0.005769    1.168814  \n",
       "2    0.172920  1.017276  0.000175    1.003551  \n",
       "3    0.060537  1.017276  0.000175    1.001094  \n",
       "4    0.171831  1.010869  0.000127    1.002231  \n",
       "5    0.069674  1.010869  0.000127    1.000805  \n",
       "6    0.032417  0.930166 -0.001006    0.997485  \n",
       "7    0.384401  0.930166 -0.001006    0.953119  \n",
       "8    0.140436  0.826173 -0.002369    0.965625  \n",
       "9    0.066248  0.826173 -0.002369    0.985073  "
      ]
     },
     "execution_count": 417,
     "metadata": {},
     "output_type": "execute_result"
    }
   ],
   "source": [
    "association_rules(association,metric='lift')"
   ]
  },
  {
   "cell_type": "markdown",
   "metadata": {},
   "source": [
    "- 일반식품을 산다면 조리욕실을 함께 살 확률이 제일 높게 나타난다."
   ]
  }
 ],
 "metadata": {
  "kernelspec": {
   "display_name": "Python 3",
   "language": "python",
   "name": "python3"
  },
  "language_info": {
   "codemirror_mode": {
    "name": "ipython",
    "version": 3
   },
   "file_extension": ".py",
   "mimetype": "text/x-python",
   "name": "python",
   "nbconvert_exporter": "python",
   "pygments_lexer": "ipython3",
   "version": "3.7.7"
  }
 },
 "nbformat": 4,
 "nbformat_minor": 4
}
