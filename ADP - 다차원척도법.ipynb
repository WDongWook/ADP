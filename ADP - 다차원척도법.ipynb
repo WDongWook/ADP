{
 "cells": [
  {
   "cell_type": "markdown",
   "metadata": {},
   "source": [
    "### 다차원 척도법(Multidimensional Scaling)"
   ]
  },
  {
   "cell_type": "markdown",
   "metadata": {},
   "source": [
    "## 1. 의미\n",
    "- 개체들을 대상으로 변수들 측정한 후에 유사성/비유사성 측정하여 개체들을 2차원 또는 3차원 공간상에 점으로 표현하는 분석 방법\n",
    "\n",
    "- 객체간 근접성을 시각화하는 통계기법"
   ]
  },
  {
   "cell_type": "markdown",
   "metadata": {},
   "source": [
    "## 2. 목적\n",
    "\n",
    "- 데이터에 잠재되어 있는 패턴 구조를 찾아낸다.(소수 차원의 공간에 기하학적으로 표현)\n",
    "- 데이터 축소의 목적으로 이용하기도 한다.\n",
    "- 현상이나 과정에 고유의 구조로서 의미를 부여"
   ]
  },
  {
   "cell_type": "markdown",
   "metadata": {},
   "source": [
    "## 3.방법\n",
    "\n",
    "- 유클리드 거리 계산으로 개체들의 거리를 계산한다.\n",
    "- 상대적 거리의 정확도를 높이기 위해 적합 정도를 스트레스 값으로 나타낸다.\n",
    "- STRESS 값 : $S = \\sqrt{\\frac{\\sum_{i=1,j=1}^n (d_{ij} - \\hat d_{ij})^2}{\\sum_{i=1,j=1}^n(d_{ij})^2}}$\n",
    "\n",
    "- $d_{ij}$ = 관측대상 i부터 j까지 거리\n",
    "- $\\hat d_{ij}$ = 프로그램에 의해서 추정된 거리\n",
    "\n",
    "STRESS|적합도수준\n",
    "------|------\n",
    "0|완벽(Perfect)\n",
    "0.05이내|매우 좋은(Excellent)\n",
    "0.05~0.10|만족(Satisfactory)\n",
    "0.10~0.15|보통(Acceptable)\n",
    "0.15이상|나쁨(Poor)"
   ]
  },
  {
   "cell_type": "markdown",
   "metadata": {},
   "source": [
    "## 4. 계량적 MDS & 비계량적 MDS"
   ]
  },
  {
   "cell_type": "markdown",
   "metadata": {},
   "source": [
    "### 1) 계량적 MDS\n",
    "\n",
    "- 데이터가 구간척도이거나 비율척도인 경우 활용한다.(전통적인 MDS)\n",
    "- N개의 케이스에 대해서 p개의 특성변수가 있는 경우 각 개체들간의 유클리드 거리행렬을 계산하고 개체들간의 비유사성 S를 공간상에 표현"
   ]
  },
  {
   "cell_type": "code",
   "execution_count": 1,
   "metadata": {},
   "outputs": [
    {
     "name": "stderr",
     "output_type": "stream",
     "text": [
      "C:\\Users\\qhadk\\AppData\\Local\\Continuum\\anaconda3\\lib\\site-packages\\sklearn\\utils\\deprecation.py:143: FutureWarning: The sklearn.manifold.mds module is  deprecated in version 0.22 and will be removed in version 0.24. The corresponding classes / functions should instead be imported from sklearn.manifold. Anything that cannot be imported from sklearn.manifold is now part of the private API.\n",
      "  warnings.warn(message, FutureWarning)\n"
     ]
    }
   ],
   "source": [
    "from sklearn.manifold import MDS,mds\n",
    "from sklearn.preprocessing import StandardScaler\n",
    "import numpy as np\n",
    "import pandas as pd\n",
    "import matplotlib.pyplot as plt\n",
    "import seaborn as sns\n",
    "%matplotlib inline\n",
    "import warnings\n",
    "warnings.filterwarnings('ignore')\n",
    "from scipy.spatial import distance\n",
    "from sklearn.metrics.pairwise import manhattan_distances,euclidean_distances"
   ]
  },
  {
   "cell_type": "code",
   "execution_count": 2,
   "metadata": {},
   "outputs": [],
   "source": [
    "eurodist = pd.read_csv('eurodist.csv',index_col=0)"
   ]
  },
  {
   "cell_type": "code",
   "execution_count": 4,
   "metadata": {},
   "outputs": [],
   "source": [
    "mds = MDS(n_components=2,dissimilarity='precomputed')"
   ]
  },
  {
   "cell_type": "code",
   "execution_count": 5,
   "metadata": {},
   "outputs": [],
   "source": [
    "coords = mds.fit_transform(eurodist.values)\n",
    "results = mds.fit(eurodist.values)"
   ]
  },
  {
   "cell_type": "code",
   "execution_count": 42,
   "metadata": {},
   "outputs": [],
   "source": [
    "def stress_value(data,stress) :\n",
    "    Kruskal_stress = np.sqrt(stress / (0.5 * np.sum(data.values**2)))\n",
    "    print(\"Stress : {}\".format(Kruskal_stress))"
   ]
  },
  {
   "cell_type": "code",
   "execution_count": 43,
   "metadata": {},
   "outputs": [
    {
     "name": "stdout",
     "output_type": "stream",
     "text": [
      "Stress : 0.07216185443615533\n"
     ]
    }
   ],
   "source": [
    "stress_value(eurodist,mds.stress_)"
   ]
  },
  {
   "cell_type": "markdown",
   "metadata": {},
   "source": [
    "- 0.07이므로 만족한다"
   ]
  },
  {
   "cell_type": "code",
   "execution_count": 57,
   "metadata": {},
   "outputs": [
    {
     "data": {
      "image/png": "[encoded data removed]",
      "text/plain": [
       "<Figure size 576x432 with 1 Axes>"
      ]
     },
     "metadata": {
      "needs_background": "light"
     },
     "output_type": "display_data"
    }
   ],
   "source": [
    "mds = MDS(2, dissimilarity='precomputed',random_state=1)\n",
    "coords = mds.fit_transform(eurodist.values)\n",
    "x, y = coords[:, 0], coords[:, 1]\n",
    "\n",
    "fig, ax = plt.subplots(figsize = (8,6))\n",
    "ax.scatter(x, y)\n",
    "for (city, _x, _y) in zip(eurodist.columns.tolist(), x, y):\n",
    "    ax.annotate(city, (_x, _y))\n",
    "plt.title('Mulitidimensional Scaling',fontsize = 15)\n",
    "plt.axvline(0,color = 'red',linestyle = '--',alpha = 0.6)\n",
    "plt.axhline(0,color = 'red',linestyle = '--',alpha = 0.6)   \n",
    "plt.show()"
   ]
  },
  {
   "cell_type": "markdown",
   "metadata": {},
   "source": [
    "#### (1) MDS parameter 정리\n",
    "\n",
    "\n",
    "- n_components : 차원의 수 결정\n",
    "- metric : **True면 계량적, False면 비계량적**\n",
    "- n_init : 수를 조정하여 stress 값 최소화 시킬 수 있다.\n",
    "- max_iter : 최대 반복 횟수\n",
    "- verbose : \n",
    "- eps : \n",
    "- dissimilarity : default값은 euclidean,pre-computed\n",
    "\n",
    "#### (2) Atrributes\n",
    "\n",
    "- embedding_ : 임베딩 값\n",
    "- stress_ : 최종 스트레스 값\n",
    "- dissimilarity_matrix_ : 두 점 사이의 거리\n",
    "- n_iter_ : 최적의 스트레스값에 대응하는 반복 횟수 값 알려줌"
   ]
  },
  {
   "cell_type": "markdown",
   "metadata": {},
   "source": [
    "### 2) 비계량적 MDS"
   ]
  },
  {
   "cell_type": "markdown",
   "metadata": {},
   "source": [
    "- 데이터가 순서척도인 경우에 활용한다.\n",
    "- 개체들간의 거리가 순서로 주어진 경우에는 순서척도를 거리의 속성과 같도록 변환하여 거리를 생성한 후 변환"
   ]
  },
  {
   "cell_type": "code",
   "execution_count": 59,
   "metadata": {},
   "outputs": [],
   "source": [
    "from rpy2.robjects import r, pandas2ri\n",
    "pandas2ri.activate()"
   ]
  },
  {
   "cell_type": "code",
   "execution_count": 60,
   "metadata": {},
   "outputs": [],
   "source": [
    "swiss = r['swiss']"
   ]
  },
  {
   "cell_type": "code",
   "execution_count": 61,
   "metadata": {},
   "outputs": [],
   "source": [
    "swiss2 = swiss.iloc[:,1:]"
   ]
  },
  {
   "cell_type": "markdown",
   "metadata": {},
   "source": [
    "- 거리행렬 데이터가 아니므로 거리를 계산"
   ]
  },
  {
   "cell_type": "code",
   "execution_count": 62,
   "metadata": {},
   "outputs": [],
   "source": [
    "swiss_dist = pd.DataFrame(columns=swiss2.index,index=swiss2.index)"
   ]
  },
  {
   "cell_type": "code",
   "execution_count": 63,
   "metadata": {
    "scrolled": true
   },
   "outputs": [],
   "source": [
    "value = []\n",
    "index_list = []\n",
    "for i in range(len(swiss_dist)) :\n",
    "    for a in range(len(swiss_dist)) :\n",
    "        value.append(distance.euclidean(swiss2.loc[swiss_dist.index[i]],swiss2.loc[swiss_dist.columns[a]]))\n",
    "        index_list.append((swiss_dist.index[i],swiss_dist.columns[a]))"
   ]
  },
  {
   "cell_type": "code",
   "execution_count": 64,
   "metadata": {},
   "outputs": [],
   "source": [
    "for i in range(1,48):\n",
    "    swiss_dist.iloc[:,i-1] = value[47*(i-1):47*i]"
   ]
  },
  {
   "cell_type": "code",
   "execution_count": 65,
   "metadata": {},
   "outputs": [],
   "source": [
    "isomds = MDS(n_components=2,metric=False,dissimilarity='euclidean')"
   ]
  },
  {
   "cell_type": "code",
   "execution_count": 66,
   "metadata": {},
   "outputs": [
    {
     "data": {
      "text/plain": [
       "MDS(metric=False)"
      ]
     },
     "execution_count": 66,
     "metadata": {},
     "output_type": "execute_result"
    }
   ],
   "source": [
    "isomds.fit(swiss_dist.values)"
   ]
  },
  {
   "cell_type": "code",
   "execution_count": 67,
   "metadata": {},
   "outputs": [],
   "source": [
    "coords = isomds.fit_transform(swiss_dist.values)\n",
    "results = isomds.fit(swiss_dist.values)"
   ]
  },
  {
   "cell_type": "code",
   "execution_count": 68,
   "metadata": {},
   "outputs": [
    {
     "data": {
      "image/png": "[encoded data removed]",
      "text/plain": [
       "<Figure size 576x432 with 1 Axes>"
      ]
     },
     "metadata": {
      "needs_background": "light"
     },
     "output_type": "display_data"
    }
   ],
   "source": [
    "mds = MDS(2, dissimilarity='precomputed',random_state=1)\n",
    "coords = mds.fit_transform(eurodist.values)\n",
    "x, y = coords[:, 0], coords[:, 1]\n",
    "\n",
    "fig, ax = plt.subplots(figsize = (8,6))\n",
    "ax.scatter(x, y)\n",
    "for (city, _x, _y) in zip(eurodist.columns.tolist(), x, y):\n",
    "    ax.annotate(city, (_x, _y))\n",
    "plt.title('Nonmulitidimensional Scaling',fontsize = 15)\n",
    "plt.axvline(0,color = 'red',linestyle = '--',alpha = 0.6)\n",
    "plt.axhline(0,color = 'red',linestyle = '--',alpha = 0.6)   \n",
    "plt.show()"
   ]
  },
  {
   "cell_type": "code",
   "execution_count": 70,
   "metadata": {},
   "outputs": [
    {
     "name": "stdout",
     "output_type": "stream",
     "text": [
      "Stress : 0.0029716166948380897\n"
     ]
    }
   ],
   "source": [
    "stress_value(swiss_dist,isomds.stress_)"
   ]
  },
  {
   "cell_type": "markdown",
   "metadata": {},
   "source": [
    "- 거의 0에 가까우므로 완벽하다고 할 수 있다."
   ]
  }
 ],
 "metadata": {
  "kernelspec": {
   "display_name": "Python 3",
   "language": "python",
   "name": "python3"
  },
  "language_info": {
   "codemirror_mode": {
    "name": "ipython",
    "version": 3
   },
   "file_extension": ".py",
   "mimetype": "text/x-python",
   "name": "python",
   "nbconvert_exporter": "python",
   "pygments_lexer": "ipython3",
   "version": "3.7.7"
  }
 },
 "nbformat": 4,
 "nbformat_minor": 4
}
