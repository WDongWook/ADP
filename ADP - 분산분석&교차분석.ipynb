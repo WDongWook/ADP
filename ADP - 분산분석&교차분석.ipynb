{
 "cells": [
  {
   "cell_type": "markdown",
   "metadata": {},
   "source": [
    "# 분산분석(ANOVA)"
   ]
  },
  {
   "cell_type": "code",
   "execution_count": 1,
   "metadata": {},
   "outputs": [],
   "source": [
    "import numpy as np\n",
    "import pandas as pd\n",
    "import scipy.stats\n",
    "import matplotlib.pyplot as plt\n",
    "%matplotlib inline\n",
    "\n",
    "from statsmodels.formula.api import ols\n",
    "from statsmodels.stats.anova import anova_lm\n",
    "from statsmodels.sandbox.stats.multicomp import MultiComparison\n",
    "from statsmodels.stats.multicomp import pairwise_tukeyhsd"
   ]
  },
  {
   "cell_type": "markdown",
   "metadata": {},
   "source": [
    "## 개념\n",
    "- 두 개 이상의 집단에서 그룹 평균 간 차이를 그룹 내 변동에 비교하여 살펴보는 데이터 분석 방법이다.\n",
    "- 두 개 이상 집단들의 평균 간 차이에 대한 통계적 유의성을 검증하는 방법"
   ]
  },
  {
   "cell_type": "markdown",
   "metadata": {},
   "source": [
    "## 1. 일원배치 분산 분석(One-way ANOVA)"
   ]
  },
  {
   "cell_type": "markdown",
   "metadata": {},
   "source": [
    "### 1) 특징\n",
    "- 하나의 범주형 변수의 영향을 알아보기 위해 사용되는 검증방법\n",
    "- 모집단 수 제한X, 각 표본 수 일치 안해도 된다.\n",
    "- F 통계량 사용\n",
    "\n",
    "### 2) 가정\n",
    "- 정규성(각 집단 서로 독립적 + 정규분포 따른다.)\n",
    "- 등분산성\n",
    "\n",
    "### 3) 가설검정\n",
    "- 귀무가설 : 집단 간 모평균에는 차이가 없다\n",
    "- 대립가설 : 집단 간 모평균이 모두 같다고 할 수 없다.\n",
    "\n",
    "### 4) 사후검정\n",
    "- 귀무가설이 기각되어 적어도 한 집단에서 평균의 차이가 있음이 통계저긍로 증명되었을 경우, 어떤 집단들에 대해서 평균의 차이가 존재하는지를 알아보기 위한 방법(Fisher, MRT, LSD, HSD, Scheffe)"
   ]
  },
  {
   "cell_type": "markdown",
   "metadata": {},
   "source": [
    "### 5) 예제"
   ]
  },
  {
   "cell_type": "code",
   "execution_count": 3,
   "metadata": {},
   "outputs": [],
   "source": [
    "from sklearn.datasets import load_iris"
   ]
  },
  {
   "cell_type": "code",
   "execution_count": 53,
   "metadata": {},
   "outputs": [],
   "source": [
    "iris = pd.DataFrame(load_iris()['data'],columns=load_iris()['feature_names'])"
   ]
  },
  {
   "cell_type": "code",
   "execution_count": 54,
   "metadata": {},
   "outputs": [],
   "source": [
    "iris['target']  =load_iris()['target']"
   ]
  },
  {
   "cell_type": "code",
   "execution_count": 55,
   "metadata": {},
   "outputs": [],
   "source": [
    "target_names = load_iris()['target_names']"
   ]
  },
  {
   "cell_type": "code",
   "execution_count": 56,
   "metadata": {},
   "outputs": [],
   "source": [
    "iris['target'] = iris['target'].apply(lambda x : target_names[x])"
   ]
  },
  {
   "cell_type": "code",
   "execution_count": 62,
   "metadata": {},
   "outputs": [],
   "source": [
    "col_list = [\"_\".join(col.split(' ')[:-1]) for col in iris.columns[:-1]]\n",
    "col_list.append('target')"
   ]
  },
  {
   "cell_type": "code",
   "execution_count": 64,
   "metadata": {},
   "outputs": [],
   "source": [
    "iris.columns = col_list"
   ]
  },
  {
   "cell_type": "markdown",
   "metadata": {},
   "source": [
    "#### 정규성 검정"
   ]
  },
  {
   "cell_type": "code",
   "execution_count": 88,
   "metadata": {},
   "outputs": [
    {
     "name": "stdout",
     "output_type": "stream",
     "text": [
      "setosa : ShapiroResult(statistic=0.97171950340271, pvalue=0.2715264856815338)\n",
      "versicolor : ShapiroResult(statistic=0.9741330742835999, pvalue=0.33798879384994507)\n",
      "virginica : ShapiroResult(statistic=0.9673910140991211, pvalue=0.1809043288230896)\n"
     ]
    }
   ],
   "source": [
    "for value in  iris.target.unique() :\n",
    "    print(\"{} : {}\".format(value,scipy.stats.shapiro(iris.sepal_width[iris.target==value])))"
   ]
  },
  {
   "cell_type": "markdown",
   "metadata": {},
   "source": [
    "- 모두 pvalue 값이 유의수준보다 크므로 귀무가설을 채택하고 정규성을 만족한다고 할 수 있다."
   ]
  },
  {
   "cell_type": "markdown",
   "metadata": {},
   "source": [
    "#### 등분산성 검정"
   ]
  },
  {
   "cell_type": "code",
   "execution_count": 91,
   "metadata": {},
   "outputs": [
    {
     "data": {
      "text/plain": [
       "LeveneResult(statistic=0.5902115655853319, pvalue=0.5555178984739075)"
      ]
     },
     "execution_count": 91,
     "metadata": {},
     "output_type": "execute_result"
    }
   ],
   "source": [
    "scipy.stats.levene(\n",
    "    iris.sepal_width[iris.target == 'setosa'],\n",
    "    iris.sepal_width[iris.target == 'versicolor'],\n",
    "    iris.sepal_width[iris.target == 'virginica'] )"
   ]
  },
  {
   "cell_type": "code",
   "execution_count": 92,
   "metadata": {},
   "outputs": [
    {
     "data": {
      "text/plain": [
       "BartlettResult(statistic=2.0910752014391774, pvalue=0.35150280041581317)"
      ]
     },
     "execution_count": 92,
     "metadata": {},
     "output_type": "execute_result"
    }
   ],
   "source": [
    "scipy.stats.bartlett(\n",
    "    iris.sepal_width[iris.target == 'setosa'],\n",
    "    iris.sepal_width[iris.target == 'versicolor'],\n",
    "    iris.sepal_width[iris.target == 'virginica'] )"
   ]
  },
  {
   "cell_type": "markdown",
   "metadata": {},
   "source": [
    "- 둘 다 유의수준보다 값이 크므로 등분산성을 만족한다고 할 수 있다."
   ]
  },
  {
   "cell_type": "code",
   "execution_count": 66,
   "metadata": {},
   "outputs": [],
   "source": [
    "model = ols('sepal_width ~ C(target)',iris).fit()"
   ]
  },
  {
   "cell_type": "code",
   "execution_count": 67,
   "metadata": {},
   "outputs": [
    {
     "data": {
      "text/html": [
       "<div>\n",
       "<style scoped>\n",
       "    .dataframe tbody tr th:only-of-type {\n",
       "        vertical-align: middle;\n",
       "    }\n",
       "\n",
       "    .dataframe tbody tr th {\n",
       "        vertical-align: top;\n",
       "    }\n",
       "\n",
       "    .dataframe thead th {\n",
       "        text-align: right;\n",
       "    }\n",
       "</style>\n",
       "<table border=\"1\" class=\"dataframe\">\n",
       "  <thead>\n",
       "    <tr style=\"text-align: right;\">\n",
       "      <th></th>\n",
       "      <th>df</th>\n",
       "      <th>sum_sq</th>\n",
       "      <th>mean_sq</th>\n",
       "      <th>F</th>\n",
       "      <th>PR(&gt;F)</th>\n",
       "    </tr>\n",
       "  </thead>\n",
       "  <tbody>\n",
       "    <tr>\n",
       "      <th>C(target)</th>\n",
       "      <td>2.0</td>\n",
       "      <td>11.344933</td>\n",
       "      <td>5.672467</td>\n",
       "      <td>49.16004</td>\n",
       "      <td>4.492017e-17</td>\n",
       "    </tr>\n",
       "    <tr>\n",
       "      <th>Residual</th>\n",
       "      <td>147.0</td>\n",
       "      <td>16.962000</td>\n",
       "      <td>0.115388</td>\n",
       "      <td>NaN</td>\n",
       "      <td>NaN</td>\n",
       "    </tr>\n",
       "  </tbody>\n",
       "</table>\n",
       "</div>"
      ],
      "text/plain": [
       "              df     sum_sq   mean_sq         F        PR(>F)\n",
       "C(target)    2.0  11.344933  5.672467  49.16004  4.492017e-17\n",
       "Residual   147.0  16.962000  0.115388       NaN           NaN"
      ]
     },
     "execution_count": 67,
     "metadata": {},
     "output_type": "execute_result"
    }
   ],
   "source": [
    "anova_lm(model)"
   ]
  },
  {
   "cell_type": "markdown",
   "metadata": {},
   "source": [
    "- SSA(집단이 가지는 변동제곱합)의 자유도는 2(집단의 수 - 1), SST(관측치 값이 가지는 변동제곱합)의 자유도는 147(관측값의 수 - 집단의 수)임을 확인할 수 있다.\n",
    "\n",
    "\n",
    "- 분석결과 P-Value(PR(>F)) 값이 매우 작게 나와 귀무가설을 기각한다. 세가지 종에 따른 꽃받침 폭이 모두 동일하지 않다는 것이 결론. 즉, 종별 꽃받침 폭의 평균값들 중에서 적어도 어느 하나의 종은 통계적으로 유의한 차이가 있는 값을 가진다는 소리이다."
   ]
  },
  {
   "cell_type": "code",
   "execution_count": 69,
   "metadata": {
    "scrolled": true
   },
   "outputs": [
    {
     "data": {
      "text/html": [
       "<table class=\"simpletable\">\n",
       "<caption>Multiple Comparison of Means - Tukey HSD, FWER=0.05</caption>\n",
       "<tr>\n",
       "    <th>group1</th>     <th>group2</th>   <th>meandiff</th>  <th>p-adj</th>  <th>lower</th>   <th>upper</th>  <th>reject</th>\n",
       "</tr>\n",
       "<tr>\n",
       "    <td>setosa</td>   <td>versicolor</td>  <td>-0.658</td>   <td>0.001</td> <td>-0.8189</td> <td>-0.4971</td>  <td>True</td> \n",
       "</tr>\n",
       "<tr>\n",
       "    <td>setosa</td>    <td>virginica</td>  <td>-0.454</td>   <td>0.001</td> <td>-0.6149</td> <td>-0.2931</td>  <td>True</td> \n",
       "</tr>\n",
       "<tr>\n",
       "  <td>versicolor</td>  <td>virginica</td>   <td>0.204</td>  <td>0.0088</td> <td>0.0431</td>  <td>0.3649</td>   <td>True</td> \n",
       "</tr>\n",
       "</table>"
      ],
      "text/plain": [
       "<class 'statsmodels.iolib.table.SimpleTable'>"
      ]
     },
     "execution_count": 69,
     "metadata": {},
     "output_type": "execute_result"
    }
   ],
   "source": [
    "pairwise_tukeyhsd(iris['sepal_width'],iris['target'],alpha= 0.05).summary()"
   ]
  },
  {
   "cell_type": "markdown",
   "metadata": {},
   "source": [
    "- 사후분석에서 귀무가설은 집단들 사의 평균이 같다. 대립가설은 집단들 사이의 평균이 같지 않다를 두고 두 집단씩 짝 지어 각각 다중비교를 수행함\n",
    "\n",
    "- 3가지 비교에 대해서 p-value(p-adj) 값이 귀무가설을 기각하므로 모든 종들에 대해서 꽃받침 폭의 평균값은 각각 통계적으로 유의한 차이가 있다는 것을 알 수 있다.\n",
    "- meandiff의 경우 두 집단 간 반응값 차이를 알려주는 것이다. setosa - versicolor의 경우 diff값이 음수이므로 setosa보다 versicolor가 통계적으로 유의하게 큰 값을 가진다고 해석할 수 있다."
   ]
  },
  {
   "cell_type": "markdown",
   "metadata": {},
   "source": [
    "- 특징 : 비교 대상 표본수가 동일한 경우에만 사용가능, 모든 집단 조합에 대해 분석\n",
    "- 장점 : 표본수가 동일한 경우 가장 많이 사용되는 사후 검정 기법\n",
    "- 단점 : 표본수가 동일해야하고, 표본수가 적을수록 정확도 낮아진다\n",
    "\n",
    "- 집단별 표본수&분산이 동일한 경우 자주 사용"
   ]
  },
  {
   "cell_type": "code",
   "execution_count": 73,
   "metadata": {},
   "outputs": [],
   "source": [
    "comp = MultiComparison(iris['sepal_width'], iris['target'])"
   ]
  },
  {
   "cell_type": "code",
   "execution_count": 84,
   "metadata": {},
   "outputs": [
    {
     "data": {
      "text/html": [
       "<table class=\"simpletable\">\n",
       "<caption>Test Multiple Comparison ttest_ind \n",
       "FWER=0.05 method=bonf\n",
       "alphacSidak=0.02, alphacBonf=0.017</caption>\n",
       "<tr>\n",
       "    <th>group1</th>     <th>group2</th>    <th>stat</th>    <th>pval</th>  <th>pval_corr</th> <th>reject</th>\n",
       "</tr>\n",
       "<tr>\n",
       "    <td>setosa</td>   <td>versicolor</td>  <td>9.455</td>    <td>0.0</td>     <td>0.0</td>     <td>True</td> \n",
       "</tr>\n",
       "<tr>\n",
       "    <td>setosa</td>    <td>virginica</td> <td>6.4503</td>    <td>0.0</td>     <td>0.0</td>     <td>True</td> \n",
       "</tr>\n",
       "<tr>\n",
       "  <td>versicolor</td>  <td>virginica</td> <td>-3.2058</td> <td>0.0018</td>  <td>0.0055</td>    <td>True</td> \n",
       "</tr>\n",
       "</table>"
      ],
      "text/plain": [
       "<class 'statsmodels.iolib.table.SimpleTable'>"
      ]
     },
     "execution_count": 84,
     "metadata": {},
     "output_type": "execute_result"
    }
   ],
   "source": [
    "comp.allpairtest(scipy.stats.ttest_ind,method = 'bonf')[0]"
   ]
  },
  {
   "cell_type": "markdown",
   "metadata": {},
   "source": [
    "- 3가지 경우 다 귀무가설 기각하므로 3가지 경우 다 평균 차이가 유의미하다\n",
    "- 특징 : 응용범위가 넓다(모수, 비모수),Turkey보다 엄격하지만, scheffe보다 관대\n",
    "- 장점 : 각 cell의 크기가 다르더라도 사용가능\n",
    "- 단점 : 필요이상으로 넓은 신뢰구간 제시, 비교대상이 많을수록 검정력 약해진다."
   ]
  },
  {
   "cell_type": "code",
   "execution_count": 49,
   "metadata": {},
   "outputs": [],
   "source": [
    "import scikit_posthocs as sp"
   ]
  },
  {
   "cell_type": "code",
   "execution_count": null,
   "metadata": {},
   "outputs": [],
   "source": []
  },
  {
   "cell_type": "code",
   "execution_count": 101,
   "metadata": {
    "scrolled": true
   },
   "outputs": [
    {
     "data": {
      "text/html": [
       "<div>\n",
       "<style scoped>\n",
       "    .dataframe tbody tr th:only-of-type {\n",
       "        vertical-align: middle;\n",
       "    }\n",
       "\n",
       "    .dataframe tbody tr th {\n",
       "        vertical-align: top;\n",
       "    }\n",
       "\n",
       "    .dataframe thead th {\n",
       "        text-align: right;\n",
       "    }\n",
       "</style>\n",
       "<table border=\"1\" class=\"dataframe\">\n",
       "  <thead>\n",
       "    <tr style=\"text-align: right;\">\n",
       "      <th></th>\n",
       "      <th>setosa</th>\n",
       "      <th>versicolor</th>\n",
       "      <th>virginica</th>\n",
       "    </tr>\n",
       "  </thead>\n",
       "  <tbody>\n",
       "    <tr>\n",
       "      <th>setosa</th>\n",
       "      <td>1.000000e+00</td>\n",
       "      <td>1.758878e-16</td>\n",
       "      <td>3.405790e-09</td>\n",
       "    </tr>\n",
       "    <tr>\n",
       "      <th>versicolor</th>\n",
       "      <td>1.758878e-16</td>\n",
       "      <td>1.000000e+00</td>\n",
       "      <td>1.258285e-02</td>\n",
       "    </tr>\n",
       "    <tr>\n",
       "      <th>virginica</th>\n",
       "      <td>3.405790e-09</td>\n",
       "      <td>1.258285e-02</td>\n",
       "      <td>1.000000e+00</td>\n",
       "    </tr>\n",
       "  </tbody>\n",
       "</table>\n",
       "</div>"
      ],
      "text/plain": [
       "                  setosa    versicolor     virginica\n",
       "setosa      1.000000e+00  1.758878e-16  3.405790e-09\n",
       "versicolor  1.758878e-16  1.000000e+00  1.258285e-02\n",
       "virginica   3.405790e-09  1.258285e-02  1.000000e+00"
      ]
     },
     "execution_count": 101,
     "metadata": {},
     "output_type": "execute_result"
    }
   ],
   "source": [
    "sp.posthoc_scheffe(iris,val_col='sepal_width',group_col='target',p_adjust = 'holm')."
   ]
  },
  {
   "cell_type": "markdown",
   "metadata": {},
   "source": [
    "- 값들은 서로에 대한 pvalue이다. 그래서 pvalue를 보면 다 유의수준보다 낮으므로 귀무가설을 기각한다. 즉, 서로 간의 평균 차이가 있다"
   ]
  },
  {
   "cell_type": "markdown",
   "metadata": {},
   "source": [
    "## 2. 이원배치 분산 분석(Two-way ANOVA)"
   ]
  },
  {
   "cell_type": "markdown",
   "metadata": {},
   "source": [
    "- 반응값에 대해 2개의 범주형 변수 A,B의 영향을 알아보기 위해 사용되는 검증 방법\n",
    "- ex) 성별과 학년에 따른 시험점수의 차이에 대한 통계적으로 검정하기 위해 사용\n",
    "- A,B가 상관관계가 있는지를 살펴보는 교호작용에 대한 검증이 반드시 진행된다."
   ]
  },
  {
   "cell_type": "markdown",
   "metadata": {},
   "source": [
    "### 1) 가정\n",
    "\n",
    "- 정규성, 등분산성\n",
    "\n",
    "### 2) 가설검정\n",
    "\n",
    "- **귀무가설 :** 변수에 따른 종속변수 값에는 차이가 없다.(A1 = A2 = An = 0) 변수에 따른 종속변수 값에는 차이가 없다.(B1= B2 = Bn = 0), a와 b 변수의 상호작용 효과가 없다.\n",
    "\n",
    "- **대립가설 :** 변수에 따른 종속변수 값에 차이가 있다.(ai가 모두 0이라고 할 수 없다) 변수에 따른 종속변수 값에 차이가 있다(b1 모두 0이라고 할 수 없다.) a와 b변수의 상호작용 효과가 있다.\n",
    "\n",
    "\n",
    "### 3) 교호작용\n",
    "- 2가지 이상의 특정 변수 조합에서 일어나는 효과(상관관계 존재 -> 교호작용이 있다는 의미)\n",
    "- 교호작용이 없을 경우는 주효과 검정 실시, 있으면 검정이 무의미하다"
   ]
  },
  {
   "cell_type": "code",
   "execution_count": 5,
   "metadata": {},
   "outputs": [],
   "source": [
    "gender = ['M'] * 9 + ['F'] *9"
   ]
  },
  {
   "cell_type": "code",
   "execution_count": 9,
   "metadata": {},
   "outputs": [],
   "source": [
    "class_list = ['class1'] * 3 + ['class2'] * 3 + ['class3'] * 3 + ['class1'] * 3 + ['class2'] * 3 + ['class3'] * 3"
   ]
  },
  {
   "cell_type": "code",
   "execution_count": 12,
   "metadata": {},
   "outputs": [],
   "source": [
    "df = pd.DataFrame({'gender' : gender,'class' : class_list})"
   ]
  },
  {
   "cell_type": "code",
   "execution_count": 15,
   "metadata": {},
   "outputs": [],
   "source": [
    "df['score'] = [71, 77, 78, 76, 77, 78, 71, 70, 69, 80, 76, 80, 79, 78, 77, 73, 71, 70]"
   ]
  },
  {
   "cell_type": "code",
   "execution_count": 17,
   "metadata": {},
   "outputs": [],
   "source": [
    "import seaborn as sns"
   ]
  },
  {
   "cell_type": "code",
   "execution_count": 19,
   "metadata": {},
   "outputs": [
    {
     "data": {
      "text/plain": [
       "<AxesSubplot:xlabel='gender', ylabel='score'>"
      ]
     },
     "execution_count": 19,
     "metadata": {},
     "output_type": "execute_result"
    },
    {
     "data": {
      "image/png": "[encoded data removed]",
      "text/plain": [
       "<Figure size 432x288 with 1 Axes>"
      ]
     },
     "metadata": {
      "needs_background": "light"
     },
     "output_type": "display_data"
    }
   ],
   "source": [
    "sns.boxplot(x = 'gender',y = 'score',data=df)"
   ]
  },
  {
   "cell_type": "code",
   "execution_count": 20,
   "metadata": {},
   "outputs": [
    {
     "data": {
      "text/plain": [
       "<AxesSubplot:xlabel='class', ylabel='score'>"
      ]
     },
     "execution_count": 20,
     "metadata": {},
     "output_type": "execute_result"
    },
    {
     "data": {
      "image/png": "[encoded data removed]",
      "text/plain": [
       "<Figure size 432x288 with 1 Axes>"
      ]
     },
     "metadata": {
      "needs_background": "light"
     },
     "output_type": "display_data"
    }
   ],
   "source": [
    "sns.boxplot(x = 'class',y = 'score',data = df)"
   ]
  },
  {
   "cell_type": "code",
   "execution_count": 21,
   "metadata": {},
   "outputs": [],
   "source": [
    "from statsmodels.graphics.factorplots import interaction_plot"
   ]
  },
  {
   "cell_type": "code",
   "execution_count": 32,
   "metadata": {},
   "outputs": [
    {
     "data": {
      "image/png": "[encoded data removed]",
      "text/plain": [
       "<Figure size 432x288 with 1 Axes>"
      ]
     },
     "execution_count": 32,
     "metadata": {},
     "output_type": "execute_result"
    },
    {
     "data": {
      "image/png": "[encoded data removed]",
      "text/plain": [
       "<Figure size 432x288 with 1 Axes>"
      ]
     },
     "metadata": {
      "needs_background": "light"
     },
     "output_type": "display_data"
    },
    {
     "data": {
      "image/png": "[encoded data removed]",
      "text/plain": [
       "<Figure size 432x288 with 1 Axes>"
      ]
     },
     "metadata": {
      "needs_background": "light"
     },
     "output_type": "display_data"
    }
   ],
   "source": [
    "interaction_plot(df['gender'],df['class'],df['score'])\n",
    "interaction_plot(df['class'],df['gender'],df['score'])"
   ]
  },
  {
   "cell_type": "markdown",
   "metadata": {},
   "source": [
    "- 서로 교차를 하면 교호작용이 있다고 보면 되며, 서로 평행선을 이룬다면 교호작용이 없다고 해석하면 된다."
   ]
  },
  {
   "cell_type": "code",
   "execution_count": 42,
   "metadata": {},
   "outputs": [],
   "source": [
    "df.columns = [col.capitalize() for col in df.columns]"
   ]
  },
  {
   "cell_type": "code",
   "execution_count": 44,
   "metadata": {},
   "outputs": [
    {
     "name": "stdout",
     "output_type": "stream",
     "text": [
      "                      df      sum_sq    mean_sq          F    PR(>F)\n",
      "C(Gender)            1.0   16.055556  16.055556   3.853333  0.073249\n",
      "C(Class)             2.0  174.111111  87.055556  20.893333  0.000123\n",
      "C(Gender):C(Class)   2.0    4.777778   2.388889   0.573333  0.578354\n",
      "Residual            12.0   50.000000   4.166667        NaN       NaN\n"
     ]
    }
   ],
   "source": [
    "aov = ols('Score ~ C(Gender) + C(Class) + C(Gender):C(Class)',data = df).fit()\n",
    "print(anova_lm(aov))"
   ]
  },
  {
   "cell_type": "markdown",
   "metadata": {},
   "source": [
    "#### 비균형설계자료의 경우 typ=3 옵션을 추가해준다.(anova_lm(typ = 3))"
   ]
  },
  {
   "cell_type": "markdown",
   "metadata": {},
   "source": [
    "- 교호작용이 있는지를 살펴보면, 3번째(C(Gender):C(Class))의 P-value가 0.57834로서 유의수준 0.05보다 크므로 귀무가설을 채택하게 된다. 그래서 둘 간에는 교호작용에 의한 효과는 없다고 판단할 수 있다.\n",
    "\n",
    "\n",
    "- C(Gender) 성별요인의 경우 P-value가 유의수준보다 크므로 귀무가설 채택하게 된다. 즉, 성별에 따른 통계적 차이가 없다고 할 수 있다.\n",
    "\n",
    "\n",
    "- C(Class)의 경우 유의수준보다 작으므로 귀무가설을 기각하게 된다. 그러므로 class에 따른 통계학 차이가 있다고 할 수 있다."
   ]
  },
  {
   "cell_type": "code",
   "execution_count": 48,
   "metadata": {},
   "outputs": [
    {
     "data": {
      "text/html": [
       "<table class=\"simpletable\">\n",
       "<caption>Multiple Comparison of Means - Tukey HSD, FWER=0.05</caption>\n",
       "<tr>\n",
       "  <th>group1</th> <th>group2</th> <th>meandiff</th> <th>p-adj</th>   <th>lower</th>   <th>upper</th>  <th>reject</th>\n",
       "</tr>\n",
       "<tr>\n",
       "  <td>class1</td> <td>class2</td>    <td>0.5</td>    <td>0.9</td>   <td>-2.7576</td> <td>3.7576</td>   <td>False</td>\n",
       "</tr>\n",
       "<tr>\n",
       "  <td>class1</td> <td>class3</td>  <td>-6.3333</td> <td>0.001</td>  <td>-9.5909</td> <td>-3.0758</td>  <td>True</td> \n",
       "</tr>\n",
       "<tr>\n",
       "  <td>class2</td> <td>class3</td>  <td>-6.8333</td> <td>0.001</td> <td>-10.0909</td> <td>-3.5758</td>  <td>True</td> \n",
       "</tr>\n",
       "</table>"
      ],
      "text/plain": [
       "<class 'statsmodels.iolib.table.SimpleTable'>"
      ]
     },
     "execution_count": 48,
     "metadata": {},
     "output_type": "execute_result"
    }
   ],
   "source": [
    "pairwise_tukeyhsd(df['Score'],df['Class'],alpha= 0.05).summary()"
   ]
  },
  {
   "cell_type": "markdown",
   "metadata": {},
   "source": [
    "- class1과 class2 이 첫 번째 것만 제외하고 두 가지는 귀무가설을 기각하게 된다. 즉, class1과 class3, class2와 class3는 통계적으로 평균값이 유의미한 차이를 보이고 있다고 할 수 있다."
   ]
  },
  {
   "cell_type": "code",
   "execution_count": 52,
   "metadata": {},
   "outputs": [
    {
     "data": {
      "text/html": [
       "<div>\n",
       "<style scoped>\n",
       "    .dataframe tbody tr th:only-of-type {\n",
       "        vertical-align: middle;\n",
       "    }\n",
       "\n",
       "    .dataframe tbody tr th {\n",
       "        vertical-align: top;\n",
       "    }\n",
       "\n",
       "    .dataframe thead th {\n",
       "        text-align: right;\n",
       "    }\n",
       "</style>\n",
       "<table border=\"1\" class=\"dataframe\">\n",
       "  <thead>\n",
       "    <tr style=\"text-align: right;\">\n",
       "      <th></th>\n",
       "      <th>class1</th>\n",
       "      <th>class2</th>\n",
       "      <th>class3</th>\n",
       "    </tr>\n",
       "  </thead>\n",
       "  <tbody>\n",
       "    <tr>\n",
       "      <th>class1</th>\n",
       "      <td>1.000000</td>\n",
       "      <td>0.924045</td>\n",
       "      <td>0.000584</td>\n",
       "    </tr>\n",
       "    <tr>\n",
       "      <th>class2</th>\n",
       "      <td>0.924045</td>\n",
       "      <td>1.000000</td>\n",
       "      <td>0.000279</td>\n",
       "    </tr>\n",
       "    <tr>\n",
       "      <th>class3</th>\n",
       "      <td>0.000584</td>\n",
       "      <td>0.000279</td>\n",
       "      <td>1.000000</td>\n",
       "    </tr>\n",
       "  </tbody>\n",
       "</table>\n",
       "</div>"
      ],
      "text/plain": [
       "          class1    class2    class3\n",
       "class1  1.000000  0.924045  0.000584\n",
       "class2  0.924045  1.000000  0.000279\n",
       "class3  0.000584  0.000279  1.000000"
      ]
     },
     "execution_count": 52,
     "metadata": {},
     "output_type": "execute_result"
    }
   ],
   "source": [
    "sp.posthoc_scheffe(df,val_col='Score',group_col='Class',p_adjust = 'holm')"
   ]
  },
  {
   "cell_type": "markdown",
   "metadata": {},
   "source": [
    "class1 & class3, class2&class3 의 경우 귀무가설을 기각하므로 서로 간의 평균 차이가 있다."
   ]
  },
  {
   "cell_type": "markdown",
   "metadata": {},
   "source": [
    "## 3. 교차분석"
   ]
  },
  {
   "cell_type": "markdown",
   "metadata": {},
   "source": [
    "### 1) 개념 및 특징\n",
    "- 범주형 자료인 두 변수 간의 관계를 알아보기 위해 실시하는 분석 기법.\n",
    "- 적합도, 독립성, 동일성 검정에 사용\n",
    "- 카이제곱 검정 통계량 사용한다."
   ]
  },
  {
   "cell_type": "markdown",
   "metadata": {},
   "source": [
    "### 2) 적합도 검정\n",
    "\n",
    "- 관측값들이 예상한 이론과 일치하는지 아닌지 검정하는 방법\n",
    "- 관측값들이 어떠한 이론적 분포를 따르고 있는지 알아보기 위한 방법\n",
    "- 모집단 분포에 대한 가정이 옳게 됐는지를 관측 자료와 비교하여 검정하는 것\n",
    "\n",
    "#### 가설검정\n",
    "- 귀무가설 : 실제 분포와 이론적 분포 간에는 차이가 없다\n",
    "- 대립가설 : 차이가 있다.\n",
    "\n",
    "#### 자유도\n",
    "\n",
    "- k-1"
   ]
  },
  {
   "cell_type": "markdown",
   "metadata": {},
   "source": [
    "#### 예제\n",
    "\n",
    "- 귀무가설 : 전체 응답자 중 왼손잡이는 20%, 오른손잡이는 80%이다.\n",
    "- 대립가설 : 전체 응답자 중 왼손잡이 20%, 오른손잡이 80%라고 할 수 없다."
   ]
  },
  {
   "cell_type": "code",
   "execution_count": 59,
   "metadata": {},
   "outputs": [],
   "source": [
    "survey = pd.read_csv('survey.csv').iloc[:,1:]"
   ]
  },
  {
   "cell_type": "code",
   "execution_count": 118,
   "metadata": {},
   "outputs": [],
   "source": [
    "predict = [(data['Right'] *0.8).values[0],(data['Left'] * 0.2).values[0]]"
   ]
  },
  {
   "cell_type": "code",
   "execution_count": 119,
   "metadata": {},
   "outputs": [],
   "source": [
    "value = survey['W.Hnd'].value_counts().tolist()"
   ]
  },
  {
   "cell_type": "code",
   "execution_count": 120,
   "metadata": {},
   "outputs": [],
   "source": [
    "result =scipy.stats.chisquare(value,predict)"
   ]
  },
  {
   "cell_type": "code",
   "execution_count": 121,
   "metadata": {},
   "outputs": [
    {
     "data": {
      "text/plain": [
       "Power_divergenceResult(statistic=68.5, pvalue=1.2687760382545653e-16)"
      ]
     },
     "execution_count": 121,
     "metadata": {},
     "output_type": "execute_result"
    }
   ],
   "source": [
    "result"
   ]
  },
  {
   "cell_type": "markdown",
   "metadata": {},
   "source": [
    "- 유의확률이 0.05보다 작으므로 귀무가설을 기각하게 되고 왼손잡이 20%, 오른손잡이 80%라고 할 수 없다."
   ]
  },
  {
   "cell_type": "markdown",
   "metadata": {},
   "source": [
    "- 이원카이제곱검정의 경우는 chi2_contingency를 이용한다."
   ]
  },
  {
   "cell_type": "markdown",
   "metadata": {},
   "source": [
    "### 3) 독립성 검정\n",
    "\n",
    "#### 의미\n",
    "\n",
    "- 두 변수들 사이의 관계가 독립인지 아닌지 검정하는 것을 의미\n",
    "\n",
    "#### 가설 설정\n",
    "- 귀무가설 : 연관이 없다.(서로 독립이다)\n",
    "- 대립가설 : 연관이 있다.(서로 독립이 아니다)\n",
    "\n",
    "#### 자유도\n",
    "(R(행 수) - 1) * (C(열 수) - 1)"
   ]
  },
  {
   "cell_type": "code",
   "execution_count": 133,
   "metadata": {},
   "outputs": [],
   "source": [
    "data=pd.pivot_table(data = survey,index='Sex',columns='W.Hnd',aggfunc=['count'],values=['Age'])"
   ]
  },
  {
   "cell_type": "code",
   "execution_count": 146,
   "metadata": {},
   "outputs": [],
   "source": [
    "chi_2, p, dof, expected = scipy.stats.chi2_contingency(list(data.iloc[0].values),list(data.iloc[1].values))"
   ]
  },
  {
   "cell_type": "code",
   "execution_count": 147,
   "metadata": {},
   "outputs": [
    {
     "name": "stdout",
     "output_type": "stream",
     "text": [
      "Test Statistic: 0.0\n",
      "p-value: 1.0\n",
      "Degree of Freedom: 0\n",
      "[  7. 110.]\n"
     ]
    }
   ],
   "source": [
    "msg = 'Test Statistic: {}\\np-value: {}\\nDegree of Freedom: {}' \n",
    "print(msg.format(chi_2, p, dof))\n",
    "print(expected)"
   ]
  },
  {
   "cell_type": "markdown",
   "metadata": {},
   "source": [
    "- p-value가 귀무가설을 채택하므로 서로 연관성이 있다고 할 수 있다"
   ]
  },
  {
   "cell_type": "markdown",
   "metadata": {},
   "source": [
    "### 4) 동질성 검정\n",
    "\n",
    "- 관측값들이 정해진 범주 내에서 서로 비슷하게 나타나고 있는지를 검정. 속성 A, B를 가진 부모집단(subpopulation) 각각으로부터 정해진 표본의 크기만큼 자료를 추출하는 경우에 분할표에서 부모집단의 비율이 동일한가를 검정. 두 개의 요인을 대상으로 함."
   ]
  },
  {
   "cell_type": "markdown",
   "metadata": {},
   "source": [
    "- 귀무가설 : P1j = P2j = .... = Prj\n",
    "- 대립가설 : 다른 값이 하나 이상이 존재한다\n",
    "- 자유도 독립성이랑 같음\n",
    "- 독립성 검정과 똑같이 진행하면 된다."
   ]
  }
 ],
 "metadata": {
  "kernelspec": {
   "display_name": "Python 3",
   "language": "python",
   "name": "python3"
  },
  "language_info": {
   "codemirror_mode": {
    "name": "ipython",
    "version": 3
   },
   "file_extension": ".py",
   "mimetype": "text/x-python",
   "name": "python",
   "nbconvert_exporter": "python",
   "pygments_lexer": "ipython3",
   "version": "3.7.7"
  }
 },
 "nbformat": 4,
 "nbformat_minor": 4
}
